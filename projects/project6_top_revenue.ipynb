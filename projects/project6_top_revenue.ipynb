{
 "cells": [
  {
   "cell_type": "markdown",
   "id": "b58f1753",
   "metadata": {},
   "source": [
    "##### Assignment: Sales dataset → total revenue, top product\n"
   ]
  },
  {
   "cell_type": "code",
   "execution_count": 2,
   "id": "77bd7c50",
   "metadata": {},
   "outputs": [],
   "source": [
    "# import libraries\n",
    "import pandas as pd\n",
    "import numpy as np\n",
    "import matplotlib.pyplot as plt\n",
    "import seaborn as sns"
   ]
  },
  {
   "cell_type": "code",
   "execution_count": 14,
   "id": "bd043e50",
   "metadata": {},
   "outputs": [],
   "source": [
    "# load the dataframe\n",
    "df = pd.read_csv('sales_data.csv',index_col='id')"
   ]
  },
  {
   "cell_type": "code",
   "execution_count": 15,
   "id": "d8c725f1",
   "metadata": {},
   "outputs": [
    {
     "name": "stdout",
     "output_type": "stream",
     "text": [
      "<class 'pandas.core.frame.DataFrame'>\n",
      "Index: 1000 entries, 1 to 1000\n",
      "Data columns (total 6 columns):\n",
      " #   Column               Non-Null Count  Dtype  \n",
      "---  ------               --------------  -----  \n",
      " 0   category             1000 non-null   object \n",
      " 1   product_subcategory  1000 non-null   object \n",
      " 2   product              1000 non-null   object \n",
      " 3   quantity             1000 non-null   int64  \n",
      " 4   price                1000 non-null   float64\n",
      " 5   purchase_date        1000 non-null   object \n",
      "dtypes: float64(1), int64(1), object(4)\n",
      "memory usage: 54.7+ KB\n"
     ]
    }
   ],
   "source": [
    "df.head()\n",
    "df.shape\n",
    "df.describe()\n",
    "df.columns\n",
    "df.info()"
   ]
  },
  {
   "cell_type": "markdown",
   "id": "107cc7db",
   "metadata": {},
   "source": [
    "##### Q1. The total Revenue\n"
   ]
  },
  {
   "cell_type": "code",
   "execution_count": 17,
   "id": "c0a1b93a",
   "metadata": {},
   "outputs": [],
   "source": [
    "# create a custom column revenue\n",
    "df['revenue'] = df['price'] * df['quantity']"
   ]
  },
  {
   "cell_type": "code",
   "execution_count": 20,
   "id": "79e355f5",
   "metadata": {},
   "outputs": [
    {
     "name": "stdout",
     "output_type": "stream",
     "text": [
      "The total revenue is $173,170.93\n"
     ]
    }
   ],
   "source": [
    "total_revenue = df['revenue'].sum()\n",
    "total_revenue\n",
    "print(f\"The total revenue is ${total_revenue:,}\")"
   ]
  },
  {
   "cell_type": "markdown",
   "id": "1183ceea",
   "metadata": {},
   "source": [
    "##### Q2. The top product\n"
   ]
  },
  {
   "cell_type": "code",
   "execution_count": 24,
   "id": "0720b402",
   "metadata": {},
   "outputs": [
    {
     "data": {
      "text/html": [
       "<div>\n",
       "<style scoped>\n",
       "    .dataframe tbody tr th:only-of-type {\n",
       "        vertical-align: middle;\n",
       "    }\n",
       "\n",
       "    .dataframe tbody tr th {\n",
       "        vertical-align: top;\n",
       "    }\n",
       "\n",
       "    .dataframe thead th {\n",
       "        text-align: right;\n",
       "    }\n",
       "</style>\n",
       "<table border=\"1\" class=\"dataframe\">\n",
       "  <thead>\n",
       "    <tr style=\"text-align: right;\">\n",
       "      <th></th>\n",
       "      <th>product</th>\n",
       "      <th>revenue</th>\n",
       "    </tr>\n",
       "    <tr>\n",
       "      <th>id</th>\n",
       "      <th></th>\n",
       "      <th></th>\n",
       "    </tr>\n",
       "  </thead>\n",
       "  <tbody>\n",
       "    <tr>\n",
       "      <th>407</th>\n",
       "      <td>Robot Vacuum Cleaner</td>\n",
       "      <td>2999.90</td>\n",
       "    </tr>\n",
       "    <tr>\n",
       "      <th>994</th>\n",
       "      <td>Digital Camera</td>\n",
       "      <td>2399.92</td>\n",
       "    </tr>\n",
       "    <tr>\n",
       "      <th>449</th>\n",
       "      <td>Foldable Electric Scooter</td>\n",
       "      <td>2099.94</td>\n",
       "    </tr>\n",
       "    <tr>\n",
       "      <th>68</th>\n",
       "      <td>Digital Camera</td>\n",
       "      <td>2099.93</td>\n",
       "    </tr>\n",
       "    <tr>\n",
       "      <th>900</th>\n",
       "      <td>Arcade Game Machine</td>\n",
       "      <td>2099.93</td>\n",
       "    </tr>\n",
       "  </tbody>\n",
       "</table>\n",
       "</div>"
      ],
      "text/plain": [
       "                       product  revenue\n",
       "id                                     \n",
       "407       Robot Vacuum Cleaner  2999.90\n",
       "994             Digital Camera  2399.92\n",
       "449  Foldable Electric Scooter  2099.94\n",
       "68              Digital Camera  2099.93\n",
       "900        Arcade Game Machine  2099.93"
      ]
     },
     "execution_count": 24,
     "metadata": {},
     "output_type": "execute_result"
    }
   ],
   "source": [
    "df[['product','revenue']].nlargest(5,'revenue')"
   ]
  },
  {
   "cell_type": "markdown",
   "id": "0481a93c",
   "metadata": {},
   "source": [
    "##### Q3. The distribution of categories\n"
   ]
  },
  {
   "cell_type": "code",
   "execution_count": 30,
   "id": "b6344bb0",
   "metadata": {},
   "outputs": [
    {
     "data": {
      "text/plain": [
       "product_subcategory\n",
       "Healthy Snacks                       18\n",
       "Breads                               15\n",
       "Camping Equipment                    14\n",
       "Small Appliances                     14\n",
       "Cooking Appliances                   12\n",
       "Bedding & Linens                     12\n",
       "Home Organization                    12\n",
       "Frozen Meals                         11\n",
       "Lighting & Lamps                     11\n",
       "Mixes                                11\n",
       "Outdoor Accessories                  11\n",
       "Mobile Accessories                   11\n",
       "Travel Accessories                   10\n",
       "Frozen Vegetables                    10\n",
       "Decorative Wall Art & Accessories    10\n",
       "Cooking Tools & Utensils             10\n",
       "Dips and Spreads                      9\n",
       "Soups & Broths                        8\n",
       "Drinkware                             8\n",
       "Baking Ingredients                    8\n",
       "Name: count, dtype: int64"
      ]
     },
     "execution_count": 30,
     "metadata": {},
     "output_type": "execute_result"
    }
   ],
   "source": [
    "df['product_subcategory'].value_counts().head(20)\n"
   ]
  },
  {
   "cell_type": "code",
   "execution_count": 35,
   "id": "70814706",
   "metadata": {},
   "outputs": [],
   "source": [
    "df['purchase_date'] = pd.to_datetime(df['purchase_date'])\n",
    "df['year'] = df['purchase_date'].dt.year"
   ]
  },
  {
   "cell_type": "code",
   "execution_count": 37,
   "id": "955072ca",
   "metadata": {},
   "outputs": [
    {
     "data": {
      "text/plain": [
       "year\n",
       "2023    21343.69\n",
       "2024    84287.76\n",
       "2025    67539.48\n",
       "Name: revenue, dtype: float64"
      ]
     },
     "execution_count": 37,
     "metadata": {},
     "output_type": "execute_result"
    }
   ],
   "source": [
    "revenue_by_year = df.groupby('year')['revenue'].sum()\n",
    "revenue_by_year"
   ]
  },
  {
   "cell_type": "code",
   "execution_count": 39,
   "id": "58da2adf",
   "metadata": {},
   "outputs": [
    {
     "data": {
      "text/plain": [
       "<Axes: xlabel='year', ylabel='revenue'>"
      ]
     },
     "execution_count": 39,
     "metadata": {},
     "output_type": "execute_result"
    },
    {
     "data": {
      "image/png": "[encoded data removed]",
      "text/plain": [
       "<Figure size 640x480 with 1 Axes>"
      ]
     },
     "metadata": {},
     "output_type": "display_data"
    }
   ],
   "source": [
    "sns.barplot(revenue_by_year)"
   ]
  },
  {
   "cell_type": "code",
   "execution_count": 43,
   "id": "2f0b7d9e",
   "metadata": {},
   "outputs": [
    {
     "data": {
      "text/plain": [
       "<Axes: xlabel='price'>"
      ]
     },
     "execution_count": 43,
     "metadata": {},
     "output_type": "execute_result"
    },
    {
     "data": {
      "image/png": "[encoded data removed]",
      "text/plain": [
       "<Figure size 640x480 with 1 Axes>"
      ]
     },
     "metadata": {},
     "output_type": "display_data"
    }
   ],
   "source": [
    "# filter the price to eclude bottom and bottom 2.5%\n",
    "lower_bound = df['price'].quantile(0.025)\n",
    "upper_bound = df['price'].quantile(0.975)\n",
    "filtered_price = df[(df['price'] >= lower_bound) & (df['price']<=upper_bound)]['price']\n",
    "sns.boxplot(x = filtered_price ,orient='h')"
   ]
  },
  {
   "cell_type": "code",
   "execution_count": 60,
   "id": "82f14242",
   "metadata": {},
   "outputs": [
    {
     "data": {
      "text/html": [
       "<div>\n",
       "<style scoped>\n",
       "    .dataframe tbody tr th:only-of-type {\n",
       "        vertical-align: middle;\n",
       "    }\n",
       "\n",
       "    .dataframe tbody tr th {\n",
       "        vertical-align: top;\n",
       "    }\n",
       "\n",
       "    .dataframe thead th {\n",
       "        text-align: right;\n",
       "    }\n",
       "</style>\n",
       "<table border=\"1\" class=\"dataframe\">\n",
       "  <thead>\n",
       "    <tr style=\"text-align: right;\">\n",
       "      <th></th>\n",
       "      <th>category</th>\n",
       "      <th>product_subcategory</th>\n",
       "      <th>product</th>\n",
       "      <th>quantity</th>\n",
       "      <th>price</th>\n",
       "      <th>purchase_date</th>\n",
       "      <th>revenue</th>\n",
       "      <th>year_month</th>\n",
       "      <th>month_num</th>\n",
       "    </tr>\n",
       "    <tr>\n",
       "      <th>id</th>\n",
       "      <th></th>\n",
       "      <th></th>\n",
       "      <th></th>\n",
       "      <th></th>\n",
       "      <th></th>\n",
       "      <th></th>\n",
       "      <th></th>\n",
       "      <th></th>\n",
       "      <th></th>\n",
       "    </tr>\n",
       "  </thead>\n",
       "  <tbody>\n",
       "    <tr>\n",
       "      <th>1</th>\n",
       "      <td>Automotive</td>\n",
       "      <td>Car Cleaning</td>\n",
       "      <td>Car Vacuum</td>\n",
       "      <td>9</td>\n",
       "      <td>49.99</td>\n",
       "      <td>2023-10-10</td>\n",
       "      <td>449.91</td>\n",
       "      <td>2023-Oct</td>\n",
       "      <td>10</td>\n",
       "    </tr>\n",
       "    <tr>\n",
       "      <th>2</th>\n",
       "      <td>Food - Spices</td>\n",
       "      <td>Salt &amp; Seasoning</td>\n",
       "      <td>Himalayan Salt Grinder</td>\n",
       "      <td>10</td>\n",
       "      <td>4.99</td>\n",
       "      <td>2024-05-14</td>\n",
       "      <td>49.90</td>\n",
       "      <td>2024-May</td>\n",
       "      <td>5</td>\n",
       "    </tr>\n",
       "    <tr>\n",
       "      <th>3</th>\n",
       "      <td>Food - Health/Protein</td>\n",
       "      <td>Protein Supplements</td>\n",
       "      <td>Vanilla Protein Powder</td>\n",
       "      <td>9</td>\n",
       "      <td>24.99</td>\n",
       "      <td>2023-10-11</td>\n",
       "      <td>224.91</td>\n",
       "      <td>2023-Oct</td>\n",
       "      <td>10</td>\n",
       "    </tr>\n",
       "    <tr>\n",
       "      <th>4</th>\n",
       "      <td>Food - Canned Goods</td>\n",
       "      <td>Canned Vegetables</td>\n",
       "      <td>Diced Tomatoes (canned)</td>\n",
       "      <td>5</td>\n",
       "      <td>1.49</td>\n",
       "      <td>2025-06-22</td>\n",
       "      <td>7.45</td>\n",
       "      <td>2025-Jun</td>\n",
       "      <td>6</td>\n",
       "    </tr>\n",
       "    <tr>\n",
       "      <th>5</th>\n",
       "      <td>Food - Condiments</td>\n",
       "      <td>Plant-Based Condiments</td>\n",
       "      <td>Vegan Mayonnaise</td>\n",
       "      <td>3</td>\n",
       "      <td>4.49</td>\n",
       "      <td>2024-05-20</td>\n",
       "      <td>13.47</td>\n",
       "      <td>2024-May</td>\n",
       "      <td>5</td>\n",
       "    </tr>\n",
       "  </tbody>\n",
       "</table>\n",
       "</div>"
      ],
      "text/plain": [
       "                 category     product_subcategory                  product  \\\n",
       "id                                                                           \n",
       "1              Automotive            Car Cleaning               Car Vacuum   \n",
       "2           Food - Spices        Salt & Seasoning   Himalayan Salt Grinder   \n",
       "3   Food - Health/Protein     Protein Supplements   Vanilla Protein Powder   \n",
       "4     Food - Canned Goods       Canned Vegetables  Diced Tomatoes (canned)   \n",
       "5       Food - Condiments  Plant-Based Condiments         Vegan Mayonnaise   \n",
       "\n",
       "    quantity  price purchase_date  revenue year_month  month_num  \n",
       "id                                                                \n",
       "1          9  49.99    2023-10-10   449.91   2023-Oct         10  \n",
       "2         10   4.99    2024-05-14    49.90   2024-May          5  \n",
       "3          9  24.99    2023-10-11   224.91   2023-Oct         10  \n",
       "4          5   1.49    2025-06-22     7.45   2025-Jun          6  \n",
       "5          3   4.49    2024-05-20    13.47   2024-May          5  "
      ]
     },
     "execution_count": 60,
     "metadata": {},
     "output_type": "execute_result"
    }
   ],
   "source": [
    "# the distribution by month\n",
    "df['year_month'] = df['purchase_date'].dt.strftime('%Y-%b')\n",
    "df['month_num'] =df['purchase_date'].dt.month\n",
    "df.head()"
   ]
  },
  {
   "cell_type": "code",
   "execution_count": 70,
   "id": "9337b722",
   "metadata": {},
   "outputs": [
    {
     "data": {
      "text/html": [
       "<div>\n",
       "<style scoped>\n",
       "    .dataframe tbody tr th:only-of-type {\n",
       "        vertical-align: middle;\n",
       "    }\n",
       "\n",
       "    .dataframe tbody tr th {\n",
       "        vertical-align: top;\n",
       "    }\n",
       "\n",
       "    .dataframe thead th {\n",
       "        text-align: right;\n",
       "    }\n",
       "</style>\n",
       "<table border=\"1\" class=\"dataframe\">\n",
       "  <thead>\n",
       "    <tr style=\"text-align: right;\">\n",
       "      <th></th>\n",
       "      <th>year_month</th>\n",
       "      <th>revenue</th>\n",
       "    </tr>\n",
       "  </thead>\n",
       "  <tbody>\n",
       "    <tr>\n",
       "      <th>2</th>\n",
       "      <td>2023-Oct</td>\n",
       "      <td>7463.10</td>\n",
       "    </tr>\n",
       "    <tr>\n",
       "      <th>1</th>\n",
       "      <td>2023-Nov</td>\n",
       "      <td>7348.97</td>\n",
       "    </tr>\n",
       "    <tr>\n",
       "      <th>0</th>\n",
       "      <td>2023-Dec</td>\n",
       "      <td>6531.62</td>\n",
       "    </tr>\n",
       "    <tr>\n",
       "      <th>7</th>\n",
       "      <td>2024-Jan</td>\n",
       "      <td>6883.97</td>\n",
       "    </tr>\n",
       "    <tr>\n",
       "      <th>6</th>\n",
       "      <td>2024-Feb</td>\n",
       "      <td>8410.74</td>\n",
       "    </tr>\n",
       "    <tr>\n",
       "      <th>10</th>\n",
       "      <td>2024-Mar</td>\n",
       "      <td>7989.56</td>\n",
       "    </tr>\n",
       "    <tr>\n",
       "      <th>3</th>\n",
       "      <td>2024-Apr</td>\n",
       "      <td>9675.77</td>\n",
       "    </tr>\n",
       "    <tr>\n",
       "      <th>11</th>\n",
       "      <td>2024-May</td>\n",
       "      <td>6657.33</td>\n",
       "    </tr>\n",
       "    <tr>\n",
       "      <th>9</th>\n",
       "      <td>2024-Jun</td>\n",
       "      <td>6245.05</td>\n",
       "    </tr>\n",
       "    <tr>\n",
       "      <th>8</th>\n",
       "      <td>2024-Jul</td>\n",
       "      <td>6136.09</td>\n",
       "    </tr>\n",
       "    <tr>\n",
       "      <th>4</th>\n",
       "      <td>2024-Aug</td>\n",
       "      <td>4778.48</td>\n",
       "    </tr>\n",
       "    <tr>\n",
       "      <th>14</th>\n",
       "      <td>2024-Sep</td>\n",
       "      <td>5006.98</td>\n",
       "    </tr>\n",
       "    <tr>\n",
       "      <th>13</th>\n",
       "      <td>2024-Oct</td>\n",
       "      <td>4550.80</td>\n",
       "    </tr>\n",
       "    <tr>\n",
       "      <th>12</th>\n",
       "      <td>2024-Nov</td>\n",
       "      <td>11119.83</td>\n",
       "    </tr>\n",
       "    <tr>\n",
       "      <th>5</th>\n",
       "      <td>2024-Dec</td>\n",
       "      <td>6833.16</td>\n",
       "    </tr>\n",
       "    <tr>\n",
       "      <th>18</th>\n",
       "      <td>2025-Jan</td>\n",
       "      <td>7810.62</td>\n",
       "    </tr>\n",
       "    <tr>\n",
       "      <th>17</th>\n",
       "      <td>2025-Feb</td>\n",
       "      <td>5553.93</td>\n",
       "    </tr>\n",
       "    <tr>\n",
       "      <th>21</th>\n",
       "      <td>2025-Mar</td>\n",
       "      <td>7155.29</td>\n",
       "    </tr>\n",
       "    <tr>\n",
       "      <th>15</th>\n",
       "      <td>2025-Apr</td>\n",
       "      <td>5445.03</td>\n",
       "    </tr>\n",
       "    <tr>\n",
       "      <th>22</th>\n",
       "      <td>2025-May</td>\n",
       "      <td>6985.89</td>\n",
       "    </tr>\n",
       "    <tr>\n",
       "      <th>20</th>\n",
       "      <td>2025-Jun</td>\n",
       "      <td>9690.78</td>\n",
       "    </tr>\n",
       "    <tr>\n",
       "      <th>19</th>\n",
       "      <td>2025-Jul</td>\n",
       "      <td>8159.40</td>\n",
       "    </tr>\n",
       "    <tr>\n",
       "      <th>16</th>\n",
       "      <td>2025-Aug</td>\n",
       "      <td>5121.47</td>\n",
       "    </tr>\n",
       "    <tr>\n",
       "      <th>24</th>\n",
       "      <td>2025-Sep</td>\n",
       "      <td>8937.23</td>\n",
       "    </tr>\n",
       "    <tr>\n",
       "      <th>23</th>\n",
       "      <td>2025-Oct</td>\n",
       "      <td>2679.84</td>\n",
       "    </tr>\n",
       "  </tbody>\n",
       "</table>\n",
       "</div>"
      ],
      "text/plain": [
       "   year_month   revenue\n",
       "2    2023-Oct   7463.10\n",
       "1    2023-Nov   7348.97\n",
       "0    2023-Dec   6531.62\n",
       "7    2024-Jan   6883.97\n",
       "6    2024-Feb   8410.74\n",
       "10   2024-Mar   7989.56\n",
       "3    2024-Apr   9675.77\n",
       "11   2024-May   6657.33\n",
       "9    2024-Jun   6245.05\n",
       "8    2024-Jul   6136.09\n",
       "4    2024-Aug   4778.48\n",
       "14   2024-Sep   5006.98\n",
       "13   2024-Oct   4550.80\n",
       "12   2024-Nov  11119.83\n",
       "5    2024-Dec   6833.16\n",
       "18   2025-Jan   7810.62\n",
       "17   2025-Feb   5553.93\n",
       "21   2025-Mar   7155.29\n",
       "15   2025-Apr   5445.03\n",
       "22   2025-May   6985.89\n",
       "20   2025-Jun   9690.78\n",
       "19   2025-Jul   8159.40\n",
       "16   2025-Aug   5121.47\n",
       "24   2025-Sep   8937.23\n",
       "23   2025-Oct   2679.84"
      ]
     },
     "execution_count": 70,
     "metadata": {},
     "output_type": "execute_result"
    }
   ],
   "source": [
    "monthly =df.groupby('year_month')['revenue'].sum().reset_index()\n",
    "\n",
    "# temporary column to convert the year_month to datetime\n",
    "monthly['year_month_dt'] = pd.to_datetime(monthly['year_month'],format='%Y-%b')\n",
    "# sort now by the datetime\n",
    "monthly = monthly.sort_values('year_month_dt').drop(columns='year_month_dt')\n",
    "monthly"
   ]
  },
  {
   "cell_type": "code",
   "execution_count": 73,
   "id": "a0586b96",
   "metadata": {},
   "outputs": [
    {
     "data": {
      "image/png": "[encoded data removed]",
      "text/plain": [
       "<Figure size 640x480 with 1 Axes>"
      ]
     },
     "metadata": {},
     "output_type": "display_data"
    }
   ],
   "source": [
    "sns.lineplot(monthly)\n",
    "plt.tight_layout()\n",
    "plt.show()"
   ]
  }
 ],
 "metadata": {
  "kernelspec": {
   "display_name": "Python (.venv - Data Science)",
   "language": "python",
   "name": "data_science_env"
  },
  "language_info": {
   "codemirror_mode": {
    "name": "ipython",
    "version": 3
   },
   "file_extension": ".py",
   "mimetype": "text/x-python",
   "name": "python",
   "nbconvert_exporter": "python",
   "pygments_lexer": "ipython3",
   "version": "3.13.5"
  }
 },
 "nbformat": 4,
 "nbformat_minor": 5
}
