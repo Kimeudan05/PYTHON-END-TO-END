{
 "cells": [
  {
   "cell_type": "markdown",
   "id": "3c78f3e1",
   "metadata": {},
   "source": [
    "##### Introduction\n"
   ]
  },
  {
   "cell_type": "markdown",
   "id": "46ad8dc3",
   "metadata": {},
   "source": [
    "#### PostgreSQL + Python (psycopg2)\n",
    "\n",
    "In this notebook, we’ll learn to interact with a PostgreSQL database using Python’s `psycopg2` library.\n",
    "\n",
    "We'll:\n",
    "\n",
    "- Connect to PostgreSQL\n",
    "- Create and populate tables (`customers`, `orders`, `products`)\n",
    "- Perform CRUD operations\n",
    "- Execute joins and aggregations\n",
    "- Export query results to Pandas\n",
    "\n",
    "This mirrors what we did in SQLite but for a production-grade relational database.\n"
   ]
  },
  {
   "cell_type": "markdown",
   "id": "5deafdb2",
   "metadata": {},
   "source": [
    "##### 2. Setup\n"
   ]
  },
  {
   "cell_type": "code",
   "execution_count": 3,
   "id": "e03ca1cc",
   "metadata": {},
   "outputs": [],
   "source": [
    "import psycopg2\n",
    "import pandas as pd\n",
    "\n",
    "# database connection details\n",
    "db_config = {\n",
    "    \"host\": \"localhost\",\n",
    "    \"database\": \"python\",\n",
    "    \"user\": \"postgres\",\n",
    "    \"password\": \"2013@Wewe\",\n",
    "    \"port\": 5432\n",
    "}"
   ]
  },
  {
   "cell_type": "markdown",
   "id": "037faa7f",
   "metadata": {},
   "source": [
    "##### 3. Create a database connection\n"
   ]
  },
  {
   "cell_type": "code",
   "execution_count": 4,
   "id": "275ebdd7",
   "metadata": {},
   "outputs": [
    {
     "name": "stdout",
     "output_type": "stream",
     "text": [
      "Connected to : ('PostgreSQL 17.5 on x86_64-windows, compiled by msvc-19.44.35209, 64-bit',)\n"
     ]
    }
   ],
   "source": [
    "# connect safely using context manager\n",
    "try:\n",
    "    with psycopg2.connect(**db_config) as conn:\n",
    "        with conn.cursor() as cur:\n",
    "            cur.execute(\"SELECT version();\")\n",
    "            print(\"Connected to :\",cur.fetchone())\n",
    "except Exception as e:\n",
    "    print(\"Connection Failed \",e)"
   ]
  },
  {
   "cell_type": "markdown",
   "id": "8c1ffe41",
   "metadata": {},
   "source": [
    "##### 4. Create realated tables\n"
   ]
  },
  {
   "cell_type": "code",
   "execution_count": 5,
   "id": "9e677566",
   "metadata": {},
   "outputs": [
    {
     "name": "stdout",
     "output_type": "stream",
     "text": [
      "Tables Created successifully\n"
     ]
    }
   ],
   "source": [
    "with psycopg2.connect(**db_config) as conn:\n",
    "    with conn.cursor() as cur:\n",
    "        cur.execute(\"\"\"\n",
    "        CREATE TABLE IF NOT EXISTS customers(\n",
    "            customer_id SERIAL PRIMARY KEY,\n",
    "            first_name VARCHAR(100),\n",
    "            last_name VARCHAR(100),\n",
    "            email VARCHAR(150) UNIQUE,\n",
    "            city VARCHAR(100),\n",
    "            region VARCHAR(100),\n",
    "            created_at TIMESTAMP DEFAULT CURRENT_TIMESTAMP\n",
    "        );\n",
    "        \"\"\")\n",
    "\n",
    "        cur.execute(\"\"\"\n",
    "        CREATE TABLE IF NOT EXISTS products(\n",
    "            product_id SERIAL PRIMARY KEY,\n",
    "            product_name VARCHAR(150),\n",
    "            category VARCHAR(100),\n",
    "            price NUMERIC(10,2)\n",
    "        );\n",
    "        \"\"\")\n",
    "\n",
    "        cur.execute(\"\"\"\n",
    "        CREATE TABLE IF NOT EXISTS orders(\n",
    "            order_id SERIAL PRIMARY KEY,\n",
    "            customer_id INT REFERENCES customers(customer_id),\n",
    "            product_id INT REFERENCES products(product_id),\n",
    "            order_date DATE,\n",
    "            quantity INT CHECK(quantity > 0),\n",
    "            status VARCHAR(50)\n",
    "        );\n",
    "        \"\"\")\n",
    "\n",
    "        conn.commit()\n",
    "print(\"Tables Created successifully\")"
   ]
  },
  {
   "cell_type": "markdown",
   "id": "de8f016e",
   "metadata": {},
   "source": [
    "##### 5. Insert Sample data\n"
   ]
  },
  {
   "cell_type": "code",
   "execution_count": 6,
   "id": "45ca615c",
   "metadata": {},
   "outputs": [
    {
     "name": "stdout",
     "output_type": "stream",
     "text": [
      "Data inserted Successifully\n"
     ]
    }
   ],
   "source": [
    "customers = [\n",
    "   (\"Daniel\", \"Masila\", \"daniel@example.com\", \"Nairobi\", \"Central\"),\n",
    "    (\"Jane\", \"Mwangi\", \"jane@example.com\", \"Nakuru\", \"Rift Valley\"),\n",
    "    (\"John\", \"Otieno\", \"john@example.com\", \"Kisumu\", \"Western\")\n",
    "]\n",
    "\n",
    "products = [\n",
    "    (\"Wireless Mouse\", \"Accessories\", 1200),\n",
    "    (\"Laptop Stand\", \"Accessories\", 3500),\n",
    "    (\"HDMI Cable\", \"Cables\", 800),\n",
    "    (\"Monitor 24 inch\", \"Electronics\", 16000),\n",
    "    (\"Office Chair\", \"Furniture\", 18000)\n",
    "]\n",
    "\n",
    "orders = [\n",
    "    (1, 1, \"2025-10-01\", 2, \"Delivered\"),\n",
    "    (2, 2, \"2025-10-03\", 1, \"Delivered\"),\n",
    "    (3, 3, \"2025-10-04\", 3, \"Pending\"),\n",
    "    (1, 4, \"2025-10-05\", 1, \"Shipped\"),\n",
    "    (2, 5, \"2025-10-06\", 1, \"Processing\")\n",
    "]\n",
    "\n",
    "## insert the data\n",
    "with psycopg2.connect(**db_config) as conn:\n",
    "    with conn.cursor() as cur:\n",
    "        cur.executemany(\n",
    "            \"\"\"\n",
    "            INSERT INTO customers (first_name,last_name,email,city,region)\n",
    "            VALUES(%s,%s,%s,%s,%s)\n",
    "            ON CONFLICT (email) DO NOTHING\n",
    "            \"\"\" , customers\n",
    "        )\n",
    "        \n",
    "        cur.executemany(\n",
    "            \"\"\"\n",
    "            INSERT INTO products(product_name,category,price)\n",
    "            VALUES (%s,%s,%s)\n",
    "            ON CONFLICT DO NOTHING\n",
    "            \"\"\" , products\n",
    "        )\n",
    "        \n",
    "        cur.executemany(\n",
    "            \"\"\"\n",
    "            INSERT INTO orders(customer_id,product_id,order_date,quantity,status)\n",
    "            VALUES (%s,%s,%s,%s,%s)\n",
    "            \"\"\", orders\n",
    "        )\n",
    "print(\"Data inserted Successifully\")"
   ]
  },
  {
   "cell_type": "markdown",
   "id": "f7aca0d4",
   "metadata": {},
   "source": [
    "##### 6. Read data\n"
   ]
  },
  {
   "cell_type": "code",
   "execution_count": 7,
   "id": "296497b1",
   "metadata": {},
   "outputs": [
    {
     "name": "stdout",
     "output_type": "stream",
     "text": [
      "('Daniel', 'daniel@example.com')\n",
      "('Jane', 'jane@example.com')\n",
      "('John', 'john@example.com')\n"
     ]
    }
   ],
   "source": [
    "with psycopg2.connect(**db_config) as conn:\n",
    "    with conn.cursor() as cur:\n",
    "        data =cur.execute(\"SELECT first_name, email FROM customers\")\n",
    "        for row in cur.fetchall():\n",
    "            print(row)"
   ]
  },
  {
   "cell_type": "markdown",
   "id": "9b87c19d",
   "metadata": {},
   "source": [
    "##### 7. Joins and Aggregation\n"
   ]
  },
  {
   "cell_type": "code",
   "execution_count": 8,
   "id": "10160a2a",
   "metadata": {},
   "outputs": [
    {
     "name": "stderr",
     "output_type": "stream",
     "text": [
      "C:\\Users\\dante\\AppData\\Local\\Temp\\ipykernel_14708\\3851728996.py:10: UserWarning: pandas only supports SQLAlchemy connectable (engine/connection) or database string URI or sqlite3 DBAPI2 connection. Other DBAPI2 objects are not tested. Please consider using SQLAlchemy.\n",
      "  df= pd.read_sql_query(query,conn)\n"
     ]
    },
    {
     "data": {
      "text/html": [
       "<div>\n",
       "<style scoped>\n",
       "    .dataframe tbody tr th:only-of-type {\n",
       "        vertical-align: middle;\n",
       "    }\n",
       "\n",
       "    .dataframe tbody tr th {\n",
       "        vertical-align: top;\n",
       "    }\n",
       "\n",
       "    .dataframe thead th {\n",
       "        text-align: right;\n",
       "    }\n",
       "</style>\n",
       "<table border=\"1\" class=\"dataframe\">\n",
       "  <thead>\n",
       "    <tr style=\"text-align: right;\">\n",
       "      <th></th>\n",
       "      <th>first_name</th>\n",
       "      <th>last_name</th>\n",
       "      <th>city</th>\n",
       "      <th>product_name</th>\n",
       "      <th>quantity</th>\n",
       "      <th>price</th>\n",
       "      <th>total_amount</th>\n",
       "    </tr>\n",
       "  </thead>\n",
       "  <tbody>\n",
       "    <tr>\n",
       "      <th>0</th>\n",
       "      <td>Daniel</td>\n",
       "      <td>Masila</td>\n",
       "      <td>Nairobi</td>\n",
       "      <td>Wireless Mouse</td>\n",
       "      <td>2</td>\n",
       "      <td>1200.0</td>\n",
       "      <td>2400.0</td>\n",
       "    </tr>\n",
       "    <tr>\n",
       "      <th>1</th>\n",
       "      <td>Jane</td>\n",
       "      <td>Mwangi</td>\n",
       "      <td>Nakuru</td>\n",
       "      <td>Laptop Stand</td>\n",
       "      <td>1</td>\n",
       "      <td>3500.0</td>\n",
       "      <td>3500.0</td>\n",
       "    </tr>\n",
       "    <tr>\n",
       "      <th>2</th>\n",
       "      <td>John</td>\n",
       "      <td>Otieno</td>\n",
       "      <td>Kisumu</td>\n",
       "      <td>HDMI Cable</td>\n",
       "      <td>3</td>\n",
       "      <td>800.0</td>\n",
       "      <td>2400.0</td>\n",
       "    </tr>\n",
       "    <tr>\n",
       "      <th>3</th>\n",
       "      <td>Daniel</td>\n",
       "      <td>Masila</td>\n",
       "      <td>Nairobi</td>\n",
       "      <td>Monitor 24 inch</td>\n",
       "      <td>1</td>\n",
       "      <td>16000.0</td>\n",
       "      <td>16000.0</td>\n",
       "    </tr>\n",
       "    <tr>\n",
       "      <th>4</th>\n",
       "      <td>Jane</td>\n",
       "      <td>Mwangi</td>\n",
       "      <td>Nakuru</td>\n",
       "      <td>Office Chair</td>\n",
       "      <td>1</td>\n",
       "      <td>18000.0</td>\n",
       "      <td>18000.0</td>\n",
       "    </tr>\n",
       "  </tbody>\n",
       "</table>\n",
       "</div>"
      ],
      "text/plain": [
       "  first_name last_name     city     product_name  quantity    price  \\\n",
       "0     Daniel    Masila  Nairobi   Wireless Mouse         2   1200.0   \n",
       "1       Jane    Mwangi   Nakuru     Laptop Stand         1   3500.0   \n",
       "2       John    Otieno   Kisumu       HDMI Cable         3    800.0   \n",
       "3     Daniel    Masila  Nairobi  Monitor 24 inch         1  16000.0   \n",
       "4       Jane    Mwangi   Nakuru     Office Chair         1  18000.0   \n",
       "\n",
       "   total_amount  \n",
       "0        2400.0  \n",
       "1        3500.0  \n",
       "2        2400.0  \n",
       "3       16000.0  \n",
       "4       18000.0  "
      ]
     },
     "execution_count": 8,
     "metadata": {},
     "output_type": "execute_result"
    }
   ],
   "source": [
    "query = \"\"\"\n",
    "SELECT c.first_name,c.last_name,c.city,p.product_name,\n",
    "    o.quantity,p.price,\n",
    "    (o.quantity * p.price) As total_amount\n",
    "FROM customers c\n",
    "JOIN orders o ON c.customer_id = o.customer_id\n",
    "    JOIN products p ON o.product_id = p.product_id;\n",
    "\"\"\"\n",
    "with psycopg2.connect(**db_config) as conn:\n",
    "    df= pd.read_sql_query(query,conn)\n",
    "df.head()\n",
    "        \n"
   ]
  },
  {
   "cell_type": "markdown",
   "id": "50f1edd4",
   "metadata": {},
   "source": [
    "##### 8. Analytical Queries\n"
   ]
  },
  {
   "cell_type": "code",
   "execution_count": 9,
   "id": "617f23c5",
   "metadata": {},
   "outputs": [
    {
     "name": "stderr",
     "output_type": "stream",
     "text": [
      "C:\\Users\\dante\\AppData\\Local\\Temp\\ipykernel_14708\\2201001895.py:14: UserWarning: pandas only supports SQLAlchemy connectable (engine/connection) or database string URI or sqlite3 DBAPI2 connection. Other DBAPI2 objects are not tested. Please consider using SQLAlchemy.\n",
      "  sales_by_category = pd.read_sql_query(query,conn)\n"
     ]
    },
    {
     "data": {
      "text/plain": [
       "(array([0, 1, 2, 3]),\n",
       " [Text(0, 0, 'Furniture'),\n",
       "  Text(1, 0, 'Electronics'),\n",
       "  Text(2, 0, 'Accessories'),\n",
       "  Text(3, 0, 'Cables')])"
      ]
     },
     "execution_count": 9,
     "metadata": {},
     "output_type": "execute_result"
    },
    {
     "data": {
      "image/png": "[encoded data removed]",
      "text/plain": [
       "<Figure size 640x480 with 1 Axes>"
      ]
     },
     "metadata": {},
     "output_type": "display_data"
    }
   ],
   "source": [
    "import matplotlib.pyplot as plt\n",
    "import seaborn as sns\n",
    "import plotly.express as px\n",
    "\n",
    "query = \"\"\"\n",
    "SELECT p.category,SUM(o.quantity * p.price) AS total_sales\n",
    "FROM products p\n",
    "JOIN orders o ON p.product_id = p.product_id\n",
    "GROUP BY p.category\n",
    "ORDER BY total_sales DESC\n",
    "\"\"\"\n",
    "\n",
    "with psycopg2.connect(**db_config) as conn:\n",
    "    sales_by_category = pd.read_sql_query(query,conn)\n",
    "    \n",
    "sales_by_category.plot(kind='bar',x='category',y='total_sales',\n",
    "                       legend=False,title=\"Total Sales by Product Category\")\n",
    "plt.xticks(rotation =45)"
   ]
  },
  {
   "cell_type": "markdown",
   "id": "1d397f6d",
   "metadata": {},
   "source": [
    "using plotly\n"
   ]
  },
  {
   "cell_type": "code",
   "execution_count": 10,
   "id": "9b982751",
   "metadata": {},
   "outputs": [
    {
     "data": {
      "application/vnd.plotly.v1+json": {
       "config": {
        "plotlyServerURL": "https://plot.ly"
       },
       "data": [
        {
         "hovertemplate": "category=%{x}<br>total_sales=%{text}<extra></extra>",
         "legendgroup": "Furniture",
         "marker": {
          "color": "#636efa",
          "pattern": {
           "shape": ""
          }
         },
         "name": "Furniture",
         "orientation": "v",
         "showlegend": true,
         "text": {
          "bdata": "AAAAAACUAUE=",
          "dtype": "f8"
         },
         "textposition": "auto",
         "type": "bar",
         "x": [
          "Furniture"
         ],
         "xaxis": "x",
         "y": {
          "bdata": "AAAAAACUAUE=",
          "dtype": "f8"
         },
         "yaxis": "y"
        },
        {
         "hovertemplate": "category=%{x}<br>total_sales=%{text}<extra></extra>",
         "legendgroup": "Electronics",
         "marker": {
          "color": "#EF553B",
          "pattern": {
           "shape": ""
          }
         },
         "name": "Electronics",
         "orientation": "v",
         "showlegend": true,
         "text": {
          "bdata": "AAAAAABA/0A=",
          "dtype": "f8"
         },
         "textposition": "auto",
         "type": "bar",
         "x": [
          "Electronics"
         ],
         "xaxis": "x",
         "y": {
          "bdata": "AAAAAABA/0A=",
          "dtype": "f8"
         },
         "yaxis": "y"
        },
        {
         "hovertemplate": "category=%{x}<br>total_sales=%{text}<extra></extra>",
         "legendgroup": "Accessories",
         "marker": {
          "color": "#00cc96",
          "pattern": {
           "shape": ""
          }
         },
         "name": "Accessories",
         "orientation": "v",
         "showlegend": true,
         "text": {
          "bdata": "AAAAAABc4kA=",
          "dtype": "f8"
         },
         "textposition": "auto",
         "type": "bar",
         "x": [
          "Accessories"
         ],
         "xaxis": "x",
         "y": {
          "bdata": "AAAAAABc4kA=",
          "dtype": "f8"
         },
         "yaxis": "y"
        },
        {
         "hovertemplate": "category=%{x}<br>total_sales=%{text}<extra></extra>",
         "legendgroup": "Cables",
         "marker": {
          "color": "#ab63fa",
          "pattern": {
           "shape": ""
          }
         },
         "name": "Cables",
         "orientation": "v",
         "showlegend": true,
         "text": {
          "bdata": "AAAAAAAAuUA=",
          "dtype": "f8"
         },
         "textposition": "auto",
         "type": "bar",
         "x": [
          "Cables"
         ],
         "xaxis": "x",
         "y": {
          "bdata": "AAAAAAAAuUA=",
          "dtype": "f8"
         },
         "yaxis": "y"
        }
       ],
       "layout": {
        "barmode": "relative",
        "height": 400,
        "legend": {
         "title": {
          "text": "category"
         },
         "tracegroupgap": 0
        },
        "showlegend": false,
        "template": {
         "data": {
          "bar": [
           {
            "error_x": {
             "color": "#2a3f5f"
            },
            "error_y": {
             "color": "#2a3f5f"
            },
            "marker": {
             "line": {
              "color": "#E5ECF6",
              "width": 0.5
             },
             "pattern": {
              "fillmode": "overlay",
              "size": 10,
              "solidity": 0.2
             }
            },
            "type": "bar"
           }
          ],
          "barpolar": [
           {
            "marker": {
             "line": {
              "color": "#E5ECF6",
              "width": 0.5
             },
             "pattern": {
              "fillmode": "overlay",
              "size": 10,
              "solidity": 0.2
             }
            },
            "type": "barpolar"
           }
          ],
          "carpet": [
           {
            "aaxis": {
             "endlinecolor": "#2a3f5f",
             "gridcolor": "white",
             "linecolor": "white",
             "minorgridcolor": "white",
             "startlinecolor": "#2a3f5f"
            },
            "baxis": {
             "endlinecolor": "#2a3f5f",
             "gridcolor": "white",
             "linecolor": "white",
             "minorgridcolor": "white",
             "startlinecolor": "#2a3f5f"
            },
            "type": "carpet"
           }
          ],
          "choropleth": [
           {
            "colorbar": {
             "outlinewidth": 0,
             "ticks": ""
            },
            "type": "choropleth"
           }
          ],
          "contour": [
           {
            "colorbar": {
             "outlinewidth": 0,
             "ticks": ""
            },
            "colorscale": [
             [
              0,
              "#0d0887"
             ],
             [
              0.1111111111111111,
              "#46039f"
             ],
             [
              0.2222222222222222,
              "#7201a8"
             ],
             [
              0.3333333333333333,
              "#9c179e"
             ],
             [
              0.4444444444444444,
              "#bd3786"
             ],
             [
              0.5555555555555556,
              "#d8576b"
             ],
             [
              0.6666666666666666,
              "#ed7953"
             ],
             [
              0.7777777777777778,
              "#fb9f3a"
             ],
             [
              0.8888888888888888,
              "#fdca26"
             ],
             [
              1,
              "#f0f921"
             ]
            ],
            "type": "contour"
           }
          ],
          "contourcarpet": [
           {
            "colorbar": {
             "outlinewidth": 0,
             "ticks": ""
            },
            "type": "contourcarpet"
           }
          ],
          "heatmap": [
           {
            "colorbar": {
             "outlinewidth": 0,
             "ticks": ""
            },
            "colorscale": [
             [
              0,
              "#0d0887"
             ],
             [
              0.1111111111111111,
              "#46039f"
             ],
             [
              0.2222222222222222,
              "#7201a8"
             ],
             [
              0.3333333333333333,
              "#9c179e"
             ],
             [
              0.4444444444444444,
              "#bd3786"
             ],
             [
              0.5555555555555556,
              "#d8576b"
             ],
             [
              0.6666666666666666,
              "#ed7953"
             ],
             [
              0.7777777777777778,
              "#fb9f3a"
             ],
             [
              0.8888888888888888,
              "#fdca26"
             ],
             [
              1,
              "#f0f921"
             ]
            ],
            "type": "heatmap"
           }
          ],
          "histogram": [
           {
            "marker": {
             "pattern": {
              "fillmode": "overlay",
              "size": 10,
              "solidity": 0.2
             }
            },
            "type": "histogram"
           }
          ],
          "histogram2d": [
           {
            "colorbar": {
             "outlinewidth": 0,
             "ticks": ""
            },
            "colorscale": [
             [
              0,
              "#0d0887"
             ],
             [
              0.1111111111111111,
              "#46039f"
             ],
             [
              0.2222222222222222,
              "#7201a8"
             ],
             [
              0.3333333333333333,
              "#9c179e"
             ],
             [
              0.4444444444444444,
              "#bd3786"
             ],
             [
              0.5555555555555556,
              "#d8576b"
             ],
             [
              0.6666666666666666,
              "#ed7953"
             ],
             [
              0.7777777777777778,
              "#fb9f3a"
             ],
             [
              0.8888888888888888,
              "#fdca26"
             ],
             [
              1,
              "#f0f921"
             ]
            ],
            "type": "histogram2d"
           }
          ],
          "histogram2dcontour": [
           {
            "colorbar": {
             "outlinewidth": 0,
             "ticks": ""
            },
            "colorscale": [
             [
              0,
              "#0d0887"
             ],
             [
              0.1111111111111111,
              "#46039f"
             ],
             [
              0.2222222222222222,
              "#7201a8"
             ],
             [
              0.3333333333333333,
              "#9c179e"
             ],
             [
              0.4444444444444444,
              "#bd3786"
             ],
             [
              0.5555555555555556,
              "#d8576b"
             ],
             [
              0.6666666666666666,
              "#ed7953"
             ],
             [
              0.7777777777777778,
              "#fb9f3a"
             ],
             [
              0.8888888888888888,
              "#fdca26"
             ],
             [
              1,
              "#f0f921"
             ]
            ],
            "type": "histogram2dcontour"
           }
          ],
          "mesh3d": [
           {
            "colorbar": {
             "outlinewidth": 0,
             "ticks": ""
            },
            "type": "mesh3d"
           }
          ],
          "parcoords": [
           {
            "line": {
             "colorbar": {
              "outlinewidth": 0,
              "ticks": ""
             }
            },
            "type": "parcoords"
           }
          ],
          "pie": [
           {
            "automargin": true,
            "type": "pie"
           }
          ],
          "scatter": [
           {
            "fillpattern": {
             "fillmode": "overlay",
             "size": 10,
             "solidity": 0.2
            },
            "type": "scatter"
           }
          ],
          "scatter3d": [
           {
            "line": {
             "colorbar": {
              "outlinewidth": 0,
              "ticks": ""
             }
            },
            "marker": {
             "colorbar": {
              "outlinewidth": 0,
              "ticks": ""
             }
            },
            "type": "scatter3d"
           }
          ],
          "scattercarpet": [
           {
            "marker": {
             "colorbar": {
              "outlinewidth": 0,
              "ticks": ""
             }
            },
            "type": "scattercarpet"
           }
          ],
          "scattergeo": [
           {
            "marker": {
             "colorbar": {
              "outlinewidth": 0,
              "ticks": ""
             }
            },
            "type": "scattergeo"
           }
          ],
          "scattergl": [
           {
            "marker": {
             "colorbar": {
              "outlinewidth": 0,
              "ticks": ""
             }
            },
            "type": "scattergl"
           }
          ],
          "scattermap": [
           {
            "marker": {
             "colorbar": {
              "outlinewidth": 0,
              "ticks": ""
             }
            },
            "type": "scattermap"
           }
          ],
          "scattermapbox": [
           {
            "marker": {
             "colorbar": {
              "outlinewidth": 0,
              "ticks": ""
             }
            },
            "type": "scattermapbox"
           }
          ],
          "scatterpolar": [
           {
            "marker": {
             "colorbar": {
              "outlinewidth": 0,
              "ticks": ""
             }
            },
            "type": "scatterpolar"
           }
          ],
          "scatterpolargl": [
           {
            "marker": {
             "colorbar": {
              "outlinewidth": 0,
              "ticks": ""
             }
            },
            "type": "scatterpolargl"
           }
          ],
          "scatterternary": [
           {
            "marker": {
             "colorbar": {
              "outlinewidth": 0,
              "ticks": ""
             }
            },
            "type": "scatterternary"
           }
          ],
          "surface": [
           {
            "colorbar": {
             "outlinewidth": 0,
             "ticks": ""
            },
            "colorscale": [
             [
              0,
              "#0d0887"
             ],
             [
              0.1111111111111111,
              "#46039f"
             ],
             [
              0.2222222222222222,
              "#7201a8"
             ],
             [
              0.3333333333333333,
              "#9c179e"
             ],
             [
              0.4444444444444444,
              "#bd3786"
             ],
             [
              0.5555555555555556,
              "#d8576b"
             ],
             [
              0.6666666666666666,
              "#ed7953"
             ],
             [
              0.7777777777777778,
              "#fb9f3a"
             ],
             [
              0.8888888888888888,
              "#fdca26"
             ],
             [
              1,
              "#f0f921"
             ]
            ],
            "type": "surface"
           }
          ],
          "table": [
           {
            "cells": {
             "fill": {
              "color": "#EBF0F8"
             },
             "line": {
              "color": "white"
             }
            },
            "header": {
             "fill": {
              "color": "#C8D4E3"
             },
             "line": {
              "color": "white"
             }
            },
            "type": "table"
           }
          ]
         },
         "layout": {
          "annotationdefaults": {
           "arrowcolor": "#2a3f5f",
           "arrowhead": 0,
           "arrowwidth": 1
          },
          "autotypenumbers": "strict",
          "coloraxis": {
           "colorbar": {
            "outlinewidth": 0,
            "ticks": ""
           }
          },
          "colorscale": {
           "diverging": [
            [
             0,
             "#8e0152"
            ],
            [
             0.1,
             "#c51b7d"
            ],
            [
             0.2,
             "#de77ae"
            ],
            [
             0.3,
             "#f1b6da"
            ],
            [
             0.4,
             "#fde0ef"
            ],
            [
             0.5,
             "#f7f7f7"
            ],
            [
             0.6,
             "#e6f5d0"
            ],
            [
             0.7,
             "#b8e186"
            ],
            [
             0.8,
             "#7fbc41"
            ],
            [
             0.9,
             "#4d9221"
            ],
            [
             1,
             "#276419"
            ]
           ],
           "sequential": [
            [
             0,
             "#0d0887"
            ],
            [
             0.1111111111111111,
             "#46039f"
            ],
            [
             0.2222222222222222,
             "#7201a8"
            ],
            [
             0.3333333333333333,
             "#9c179e"
            ],
            [
             0.4444444444444444,
             "#bd3786"
            ],
            [
             0.5555555555555556,
             "#d8576b"
            ],
            [
             0.6666666666666666,
             "#ed7953"
            ],
            [
             0.7777777777777778,
             "#fb9f3a"
            ],
            [
             0.8888888888888888,
             "#fdca26"
            ],
            [
             1,
             "#f0f921"
            ]
           ],
           "sequentialminus": [
            [
             0,
             "#0d0887"
            ],
            [
             0.1111111111111111,
             "#46039f"
            ],
            [
             0.2222222222222222,
             "#7201a8"
            ],
            [
             0.3333333333333333,
             "#9c179e"
            ],
            [
             0.4444444444444444,
             "#bd3786"
            ],
            [
             0.5555555555555556,
             "#d8576b"
            ],
            [
             0.6666666666666666,
             "#ed7953"
            ],
            [
             0.7777777777777778,
             "#fb9f3a"
            ],
            [
             0.8888888888888888,
             "#fdca26"
            ],
            [
             1,
             "#f0f921"
            ]
           ]
          },
          "colorway": [
           "#636efa",
           "#EF553B",
           "#00cc96",
           "#ab63fa",
           "#FFA15A",
           "#19d3f3",
           "#FF6692",
           "#B6E880",
           "#FF97FF",
           "#FECB52"
          ],
          "font": {
           "color": "#2a3f5f"
          },
          "geo": {
           "bgcolor": "white",
           "lakecolor": "white",
           "landcolor": "#E5ECF6",
           "showlakes": true,
           "showland": true,
           "subunitcolor": "white"
          },
          "hoverlabel": {
           "align": "left"
          },
          "hovermode": "closest",
          "mapbox": {
           "style": "light"
          },
          "paper_bgcolor": "white",
          "plot_bgcolor": "#E5ECF6",
          "polar": {
           "angularaxis": {
            "gridcolor": "white",
            "linecolor": "white",
            "ticks": ""
           },
           "bgcolor": "#E5ECF6",
           "radialaxis": {
            "gridcolor": "white",
            "linecolor": "white",
            "ticks": ""
           }
          },
          "scene": {
           "xaxis": {
            "backgroundcolor": "#E5ECF6",
            "gridcolor": "white",
            "gridwidth": 2,
            "linecolor": "white",
            "showbackground": true,
            "ticks": "",
            "zerolinecolor": "white"
           },
           "yaxis": {
            "backgroundcolor": "#E5ECF6",
            "gridcolor": "white",
            "gridwidth": 2,
            "linecolor": "white",
            "showbackground": true,
            "ticks": "",
            "zerolinecolor": "white"
           },
           "zaxis": {
            "backgroundcolor": "#E5ECF6",
            "gridcolor": "white",
            "gridwidth": 2,
            "linecolor": "white",
            "showbackground": true,
            "ticks": "",
            "zerolinecolor": "white"
           }
          },
          "shapedefaults": {
           "line": {
            "color": "#2a3f5f"
           }
          },
          "ternary": {
           "aaxis": {
            "gridcolor": "white",
            "linecolor": "white",
            "ticks": ""
           },
           "baxis": {
            "gridcolor": "white",
            "linecolor": "white",
            "ticks": ""
           },
           "bgcolor": "#E5ECF6",
           "caxis": {
            "gridcolor": "white",
            "linecolor": "white",
            "ticks": ""
           }
          },
          "title": {
           "x": 0.05
          },
          "xaxis": {
           "automargin": true,
           "gridcolor": "white",
           "linecolor": "white",
           "ticks": "",
           "title": {
            "standoff": 15
           },
           "zerolinecolor": "white",
           "zerolinewidth": 2
          },
          "yaxis": {
           "automargin": true,
           "gridcolor": "white",
           "linecolor": "white",
           "ticks": "",
           "title": {
            "standoff": 15
           },
           "zerolinecolor": "white",
           "zerolinewidth": 2
          }
         }
        },
        "title": {
         "text": "Sales By category"
        },
        "width": 1000,
        "xaxis": {
         "anchor": "y",
         "categoryarray": [
          "Furniture",
          "Electronics",
          "Accessories",
          "Cables"
         ],
         "categoryorder": "array",
         "domain": [
          0,
          1
         ],
         "title": {
          "text": "category"
         }
        },
        "yaxis": {
         "anchor": "x",
         "domain": [
          0,
          1
         ],
         "title": {
          "text": "total_sales"
         }
        }
       }
      }
     },
     "metadata": {},
     "output_type": "display_data"
    }
   ],
   "source": [
    "fig = px.bar(sales_by_category,\n",
    "             x='category',\n",
    "             y='total_sales',\n",
    "             color='category',\n",
    "            text='total_sales',\n",
    "            title = \"Sales By category\"\n",
    "            \n",
    ")\n",
    "fig.update_layout(width=1000,height=400,showlegend = False)\n",
    "fig.show()"
   ]
  },
  {
   "cell_type": "markdown",
   "id": "69cce48f",
   "metadata": {},
   "source": [
    "##### 9. Update and Delete\n"
   ]
  },
  {
   "cell_type": "code",
   "execution_count": 11,
   "id": "4d40aba9",
   "metadata": {},
   "outputs": [
    {
     "name": "stdout",
     "output_type": "stream",
     "text": [
      "Orders updated and cleaned up\n"
     ]
    }
   ],
   "source": [
    "with psycopg2.connect(**db_config) as conn:\n",
    "    with conn.cursor() as cur:\n",
    "        cur.execute(\"UPDATE orders SET status = 'Delivered' WHERE status = 'Pending';\")\n",
    "        cur.execute(\"DELETE FROM orders WHERE status ='Cancelled';\")\n",
    "\n",
    "print(\"Orders updated and cleaned up\")"
   ]
  },
  {
   "cell_type": "markdown",
   "id": "10d63af4",
   "metadata": {},
   "source": [
    "##### 10. Export To csv\n"
   ]
  },
  {
   "cell_type": "code",
   "execution_count": 11,
   "id": "2dd7b5a3",
   "metadata": {},
   "outputs": [
    {
     "name": "stdout",
     "output_type": "stream",
     "text": [
      "Exported to pg_orders_export.csv\n"
     ]
    },
    {
     "name": "stderr",
     "output_type": "stream",
     "text": [
      "C:\\Users\\dante\\AppData\\Local\\Temp\\ipykernel_7040\\2721312648.py:2: UserWarning:\n",
      "\n",
      "pandas only supports SQLAlchemy connectable (engine/connection) or database string URI or sqlite3 DBAPI2 connection. Other DBAPI2 objects are not tested. Please consider using SQLAlchemy.\n",
      "\n"
     ]
    }
   ],
   "source": [
    "with psycopg2.connect(**db_config) as conn:\n",
    "    df = pd.read_sql_query(\"SELECT * FROM orders;\",conn)\n",
    "    \n",
    "df.to_csv('pg_orders_exports.csv',index=False)\n",
    "print(\"Exported to pg_orders_export.csv\")"
   ]
  },
  {
   "cell_type": "markdown",
   "id": "82e19798",
   "metadata": {},
   "source": [
    "##### 11 . Summary\n"
   ]
  },
  {
   "cell_type": "markdown",
   "id": "5441e530",
   "metadata": {},
   "source": [
    "We learned how to:\n",
    "\n",
    "- Connect to PostgreSQL with `psycopg2`\n",
    "- Use context managers (`with`) for safe operations\n",
    "- Create related tables (`customers`, `products`, `orders`)\n",
    "- Perform CRUD and join queries\n",
    "- Execute aggregations and visualizations\n",
    "- Export query results into Pandas\n",
    "\n",
    "Next: Use **SQLAlchemy** to simplify and abstract database interactions.\n"
   ]
  }
 ],
 "metadata": {
  "kernelspec": {
   "display_name": "Python (virtual_env)",
   "language": "python",
   "name": "virtual_env"
  },
  "language_info": {
   "codemirror_mode": {
    "name": "ipython",
    "version": 3
   },
   "file_extension": ".py",
   "mimetype": "text/x-python",
   "name": "python",
   "nbconvert_exporter": "python",
   "pygments_lexer": "ipython3",
   "version": "3.13.5"
  }
 },
 "nbformat": 4,
 "nbformat_minor": 5
}
