{
 "cells": [
  {
   "cell_type": "markdown",
   "id": "965a2da8",
   "metadata": {},
   "source": [
    "#### SQLite + Python Basics (Week 9 – Python + SQL)\n"
   ]
  },
  {
   "cell_type": "markdown",
   "id": "8eb5284e",
   "metadata": {},
   "source": [
    "##### 1. Introduction\n"
   ]
  },
  {
   "cell_type": "markdown",
   "id": "9d497525",
   "metadata": {},
   "source": [
    "##### SQLite + Python Basics\n",
    "\n",
    "This notebook introduces how to use SQLite in Python using the built-in `sqlite3` module.  \n",
    "You'll learn to:\n",
    "\n",
    "- Create and connect to a database\n",
    "- Create tables\n",
    "- Insert, update, delete, and query data\n",
    "- Perform joins and aggregations\n",
    "- Export SQL query results into Pandas\n",
    "\n",
    "All operations use the Pythonic `with` context manager for automatic commit and cleanup.\n"
   ]
  },
  {
   "cell_type": "markdown",
   "id": "04d17940",
   "metadata": {},
   "source": [
    "##### 2. Setup\n"
   ]
  },
  {
   "cell_type": "code",
   "execution_count": 1,
   "id": "886dbb13",
   "metadata": {},
   "outputs": [
    {
     "name": "stdout",
     "output_type": "stream",
     "text": [
      "SQLite version 3.49.1\n"
     ]
    }
   ],
   "source": [
    "import sqlite3\n",
    "import pandas as pd\n",
    "print(\"SQLite version\",sqlite3.sqlite_version)"
   ]
  },
  {
   "cell_type": "markdown",
   "id": "a9f21023",
   "metadata": {},
   "source": [
    "##### 3. Create Database and Tables\n"
   ]
  },
  {
   "cell_type": "code",
   "execution_count": 2,
   "id": "2a9a3e38",
   "metadata": {},
   "outputs": [
    {
     "name": "stdout",
     "output_type": "stream",
     "text": [
      "✅ Tables created successfully.\n"
     ]
    }
   ],
   "source": [
    "with sqlite3.connect(\"ecommerce.db\") as conn:\n",
    "    cur = conn.cursor()\n",
    "    \n",
    "    cur.execute(\"\"\"\n",
    "    CREATE TABLE IF NOT EXISTS customers(\n",
    "        customer_id INTEGER PRIMARY KEY AUTOINCREMENT,\n",
    "        first_name TEXT,\n",
    "        last_name TEXT,\n",
    "        email TEXT UNIQUE,\n",
    "        city TEXT,\n",
    "        region TEXT,\n",
    "        created_at TEXT DEFAULT CURRENT_TIMESTAMP\n",
    "    );\n",
    "    \"\"\")\n",
    "    \n",
    "    cur.execute(\"\"\"\n",
    "    CREATE TABLE IF NOT EXISTS orders(\n",
    "        order_id INTEGER PRIMARY KEY AUTOINCREMENT,\n",
    "        customer_id INTEGER,\n",
    "        order_date TEXT,\n",
    "        product_name TEXT,\n",
    "        quantity INTEGER CHECK(quantity > 0),\n",
    "        price REAL,\n",
    "        status TEXT,\n",
    "        FOREIGN KEY(customer_id) REFERENCES customers(customer_id)\n",
    "    );\n",
    "    \"\"\")\n",
    "\n",
    "print(\"✅ Tables created successfully.\")\n"
   ]
  },
  {
   "cell_type": "markdown",
   "id": "2de0870b",
   "metadata": {},
   "source": [
    "##### 4. Insert Sample Data\n"
   ]
  },
  {
   "cell_type": "code",
   "execution_count": 3,
   "id": "261e8835-103d-4429-b33a-bc42fa3627e4",
   "metadata": {},
   "outputs": [
    {
     "name": "stdout",
     "output_type": "stream",
     "text": [
      "✅ Data inserted successfully.\n"
     ]
    }
   ],
   "source": [
    "customers = [\n",
    "    (\"Daniel\", \"Masila\", \"daniel@example.com\", \"Nairobi\", \"Central\"),\n",
    "    (\"Jane\", \"Mwangi\", \"jane@example.com\", \"Nakuru\", \"Rift Valley\"),\n",
    "    (\"John\", \"Otieno\", \"john@example.com\", \"Kisumu\", \"Western\"),\n",
    "    (\"Lucy\", \"Kamau\", \"lucy@example.com\", \"Mombasa\", \"Coast\")\n",
    "]\n",
    "\n",
    "orders = [\n",
    "    (1, \"2025-10-01\", \"Wireless Mouse\", 2, 1200, \"Delivered\"),\n",
    "    (1, \"2025-10-03\", \"Keyboard\", 1, 2000, \"Delivered\"),\n",
    "    (2, \"2025-10-04\", \"Laptop Stand\", 1, 3500, \"Shipped\"),\n",
    "    (3, \"2025-10-05\", \"HDMI Cable\", 3, 800, \"Pending\"),\n",
    "    (4, \"2025-10-06\", \"Monitor 24 inch\", 1, 16000, \"Delivered\")\n",
    "]\n",
    "\n",
    "with sqlite3.connect(\"ecommerce.db\") as conn:\n",
    "    cur = conn.cursor()\n",
    "    cur.executemany(\"\"\"\n",
    "    INSERT INTO customers (first_name, last_name, email, city, region)\n",
    "    VALUES (?, ?, ?, ?, ?)\n",
    "    \"\"\", customers)\n",
    "    \n",
    "    cur.executemany(\"\"\"\n",
    "    INSERT INTO orders (customer_id, order_date, product_name, quantity, price, status)\n",
    "    VALUES (?, ?, ?, ?, ?, ?)\n",
    "    \"\"\", orders)\n",
    "\n",
    "print(\"✅ Data inserted successfully.\")\n"
   ]
  },
  {
   "cell_type": "markdown",
   "id": "b7b3316a",
   "metadata": {},
   "source": [
    "##### 5. Read and display data\n"
   ]
  },
  {
   "cell_type": "code",
   "execution_count": 4,
   "id": "a8f57b55-6370-482f-893b-0a0825e4875b",
   "metadata": {},
   "outputs": [
    {
     "name": "stdout",
     "output_type": "stream",
     "text": [
      "(1, 'Daniel', 'Masila', 'daniel@example.com', 'Nairobi', 'Central', '2025-10-14 15:03:21')\n",
      "(2, 'Jane', 'Mwangi', 'jane@example.com', 'Nakuru', 'Rift Valley', '2025-10-14 15:03:21')\n",
      "(3, 'John', 'Otieno', 'john@example.com', 'Kisumu', 'Western', '2025-10-14 15:03:21')\n",
      "(4, 'Lucy', 'Kamau', 'lucy@example.com', 'Mombasa', 'Coast', '2025-10-14 15:03:21')\n"
     ]
    }
   ],
   "source": [
    "with sqlite3.connect('ecommerce.db') as conn:\n",
    "    cur = conn.cursor()\n",
    "    cur.execute(\"SELECT * FROM customers\")\n",
    "    for row in cur.fetchall():\n",
    "        print(row)"
   ]
  },
  {
   "cell_type": "markdown",
   "id": "215c3b24",
   "metadata": {},
   "source": [
    "##### 6. Joins and aggregation\n"
   ]
  },
  {
   "cell_type": "code",
   "execution_count": 5,
   "id": "127fb7d6",
   "metadata": {},
   "outputs": [
    {
     "data": {
      "text/html": [
       "<div>\n",
       "<style scoped>\n",
       "    .dataframe tbody tr th:only-of-type {\n",
       "        vertical-align: middle;\n",
       "    }\n",
       "\n",
       "    .dataframe tbody tr th {\n",
       "        vertical-align: top;\n",
       "    }\n",
       "\n",
       "    .dataframe thead th {\n",
       "        text-align: right;\n",
       "    }\n",
       "</style>\n",
       "<table border=\"1\" class=\"dataframe\">\n",
       "  <thead>\n",
       "    <tr style=\"text-align: right;\">\n",
       "      <th></th>\n",
       "      <th>first_name</th>\n",
       "      <th>city</th>\n",
       "      <th>product_name</th>\n",
       "      <th>quantity</th>\n",
       "      <th>price</th>\n",
       "      <th>total_value</th>\n",
       "    </tr>\n",
       "  </thead>\n",
       "  <tbody>\n",
       "    <tr>\n",
       "      <th>0</th>\n",
       "      <td>Daniel</td>\n",
       "      <td>Nairobi</td>\n",
       "      <td>Wireless Mouse</td>\n",
       "      <td>2</td>\n",
       "      <td>1200.0</td>\n",
       "      <td>2400.0</td>\n",
       "    </tr>\n",
       "    <tr>\n",
       "      <th>1</th>\n",
       "      <td>Daniel</td>\n",
       "      <td>Nairobi</td>\n",
       "      <td>Keyboard</td>\n",
       "      <td>1</td>\n",
       "      <td>2000.0</td>\n",
       "      <td>2000.0</td>\n",
       "    </tr>\n",
       "    <tr>\n",
       "      <th>2</th>\n",
       "      <td>Jane</td>\n",
       "      <td>Nakuru</td>\n",
       "      <td>Laptop Stand</td>\n",
       "      <td>1</td>\n",
       "      <td>3500.0</td>\n",
       "      <td>3500.0</td>\n",
       "    </tr>\n",
       "    <tr>\n",
       "      <th>3</th>\n",
       "      <td>John</td>\n",
       "      <td>Kisumu</td>\n",
       "      <td>HDMI Cable</td>\n",
       "      <td>3</td>\n",
       "      <td>800.0</td>\n",
       "      <td>2400.0</td>\n",
       "    </tr>\n",
       "    <tr>\n",
       "      <th>4</th>\n",
       "      <td>Lucy</td>\n",
       "      <td>Mombasa</td>\n",
       "      <td>Monitor 24 inch</td>\n",
       "      <td>1</td>\n",
       "      <td>16000.0</td>\n",
       "      <td>16000.0</td>\n",
       "    </tr>\n",
       "  </tbody>\n",
       "</table>\n",
       "</div>"
      ],
      "text/plain": [
       "  first_name     city     product_name  quantity    price  total_value\n",
       "0     Daniel  Nairobi   Wireless Mouse         2   1200.0       2400.0\n",
       "1     Daniel  Nairobi         Keyboard         1   2000.0       2000.0\n",
       "2       Jane   Nakuru     Laptop Stand         1   3500.0       3500.0\n",
       "3       John   Kisumu       HDMI Cable         3    800.0       2400.0\n",
       "4       Lucy  Mombasa  Monitor 24 inch         1  16000.0      16000.0"
      ]
     },
     "execution_count": 5,
     "metadata": {},
     "output_type": "execute_result"
    }
   ],
   "source": [
    "query = \"\"\"\n",
    "SELECT c.first_name, c.city, o.product_name, \n",
    "       o.quantity, o.price, \n",
    "       (o.quantity * o.price) AS total_value\n",
    "FROM customers c\n",
    "JOIN orders o ON c.customer_id = o.customer_id;\n",
    "\"\"\"\n",
    "\n",
    "with sqlite3.connect(\"ecommerce.db\") as conn:\n",
    "    df = pd.read_sql_query(query, conn)\n",
    "\n",
    "df\n"
   ]
  },
  {
   "cell_type": "markdown",
   "id": "eb536f5d",
   "metadata": {},
   "source": [
    "##### 7. Analytical Query Example\n"
   ]
  },
  {
   "cell_type": "code",
   "execution_count": 6,
   "id": "19083ebd",
   "metadata": {},
   "outputs": [
    {
     "data": {
      "text/plain": [
       "<Axes: title={'center': 'Total Sales by Region'}, xlabel='region'>"
      ]
     },
     "execution_count": 6,
     "metadata": {},
     "output_type": "execute_result"
    },
    {
     "data": {
      "image/png": "[encoded data removed]",
      "text/plain": [
       "<Figure size 640x480 with 1 Axes>"
      ]
     },
     "metadata": {},
     "output_type": "display_data"
    }
   ],
   "source": [
    "query = \"\"\"\n",
    "SELECT c.region, SUM(o.quantity * o.price) AS total_sales\n",
    "FROM customers c\n",
    "JOIN orders o ON c.customer_id = o.customer_id\n",
    "GROUP BY c.region\n",
    "ORDER BY total_sales DESC;\n",
    "\"\"\"\n",
    "\n",
    "with sqlite3.connect(\"ecommerce.db\") as conn:\n",
    "    sales_by_region = pd.read_sql_query(query, conn)\n",
    "\n",
    "sales_by_region.plot(kind=\"bar\", x=\"region\", y=\"total_sales\", legend=False, \n",
    "                     title=\"Total Sales by Region\")\n"
   ]
  },
  {
   "cell_type": "markdown",
   "id": "0eff649d",
   "metadata": {},
   "source": [
    "##### 8. Update and delete\n"
   ]
  },
  {
   "cell_type": "code",
   "execution_count": 7,
   "id": "d7c85875",
   "metadata": {},
   "outputs": [
    {
     "name": "stdout",
     "output_type": "stream",
     "text": [
      "✅ Orders updated and cleaned up.\n"
     ]
    }
   ],
   "source": [
    "with sqlite3.connect(\"ecommerce.db\") as conn:\n",
    "    cur = conn.cursor()\n",
    "    \n",
    "    # Update\n",
    "    cur.execute(\"UPDATE orders SET status='Delivered' WHERE status='Pending';\")\n",
    "    \n",
    "    # Delete example\n",
    "    cur.execute(\"DELETE FROM orders WHERE status='Cancelled';\")\n",
    "\n",
    "print(\"✅ Orders updated and cleaned up.\")\n"
   ]
  },
  {
   "cell_type": "markdown",
   "id": "938ca796",
   "metadata": {},
   "source": [
    "##### 9. Export Query to CSV\n"
   ]
  },
  {
   "cell_type": "code",
   "execution_count": 8,
   "id": "e1d8335a",
   "metadata": {},
   "outputs": [
    {
     "name": "stdout",
     "output_type": "stream",
     "text": [
      "✅ Exported to orders_export.csv\n"
     ]
    }
   ],
   "source": [
    "with sqlite3.connect('ecommerce.db') as conn:\n",
    "    df = pd.read_sql_query(\"SELECT * FROM orders\",conn)\n",
    "df.to_csv(\"orders_export.csv\",index=False)\n",
    "print(\"✅ Exported to orders_export.csv\")"
   ]
  },
  {
   "cell_type": "markdown",
   "id": "60cfcf24",
   "metadata": {},
   "source": [
    "##### 10. Summary\n"
   ]
  },
  {
   "cell_type": "markdown",
   "id": "ce8b81e7",
   "metadata": {},
   "source": [
    "We learned to:\n",
    "\n",
    "- Create and manage a SQLite database in Python\n",
    "- Use the `with` context for safe connection handling\n",
    "- Insert, update, delete, and query records\n",
    "- Perform joins and aggregations\n",
    "- Export results directly into Pandas and CSV\n",
    "\n",
    "Next: Connect to PostgreSQL using `psycopg2` or use `SQLAlchemy` ORM.\n"
   ]
  }
 ],
 "metadata": {
  "kernelspec": {
   "display_name": "Python (virtual_env)",
   "language": "python",
   "name": "virtual_env"
  },
  "language_info": {
   "codemirror_mode": {
    "name": "ipython",
    "version": 3
   },
   "file_extension": ".py",
   "mimetype": "text/x-python",
   "name": "python",
   "nbconvert_exporter": "python",
   "pygments_lexer": "ipython3",
   "version": "3.13.5"
  }
 },
 "nbformat": 4,
 "nbformat_minor": 5
}
