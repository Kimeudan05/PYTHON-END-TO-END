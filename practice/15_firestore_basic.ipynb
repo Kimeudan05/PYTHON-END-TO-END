{
 "cells": [
  {
   "cell_type": "markdown",
   "id": "e297f3ac",
   "metadata": {},
   "source": [
    "##### Firebase Firestore + Python (Week 10 – NoSQL Part 2)\n"
   ]
  },
  {
   "cell_type": "markdown",
   "id": "a6e333dd",
   "metadata": {},
   "source": [
    "##### 1. Introduction\n"
   ]
  },
  {
   "cell_type": "markdown",
   "id": "6a622038",
   "metadata": {},
   "source": [
    "###### Firebase Firestore + Python\n",
    "\n",
    "In this notebook, you'll connect Python to Google Cloud Firestore using the `firebase_admin` SDK.\n",
    "\n",
    "We'll:\n",
    "\n",
    "- Initialize a Firestore app\n",
    "- Create and populate collections (`customers`, `products`, `orders`)\n",
    "- Query and update documents\n",
    "- Aggregate and export results to Pandas\n"
   ]
  },
  {
   "cell_type": "markdown",
   "id": "b79d30bc",
   "metadata": {},
   "source": [
    "##### 2. Setup\n",
    "\n",
    "###### A. Install dependencies\n",
    "\n",
    "`pip install firebase-admin pandas`\n",
    "\n",
    "##### B. Create a Firebase project\n",
    "\n",
    "- Go to https://console.firebase.google.com/\n",
    "\n",
    "- Create or open a project → “Build > Firestore Database > Start in test mode”.\n",
    "\n",
    "- In Project Settings > Service Accounts, click\n",
    "  “Generate new private key” → this downloads a JSON credentials file.\n"
   ]
  },
  {
   "cell_type": "markdown",
   "id": "23e37bbb",
   "metadata": {},
   "source": [
    "##### C. Connect in python\n"
   ]
  },
  {
   "cell_type": "code",
   "execution_count": 1,
   "id": "a89d8f1e",
   "metadata": {},
   "outputs": [
    {
     "name": "stdout",
     "output_type": "stream",
     "text": [
      "Connected to Firestore\n"
     ]
    }
   ],
   "source": [
    "import firebase_admin\n",
    "from firebase_admin import credentials,firestore\n",
    "import pandas as pd\n",
    "import datetime\n",
    "\n",
    "cred = credentials.Certificate(\"certificate.json\") # path to your key file\n",
    "firebase_admin.initialize_app(cred)\n",
    "db=firestore.client()\n",
    "print(\"Connected to Firestore\")"
   ]
  },
  {
   "cell_type": "markdown",
   "id": "dea1dff1",
   "metadata": {},
   "source": [
    "##### 3. Define Colections\n"
   ]
  },
  {
   "cell_type": "code",
   "execution_count": 4,
   "id": "28a41582",
   "metadata": {},
   "outputs": [],
   "source": [
    "customers_ref = db.collection(\"customers\")\n",
    "products_ref = db.collection(\"products\")\n",
    "orders_ref = db.collection(\"orders\")\n",
    "\n",
    "#Firestore is document-based, so every entry is a JSON-like object.\n"
   ]
  },
  {
   "cell_type": "markdown",
   "id": "f6c23176",
   "metadata": {},
   "source": [
    "##### 4. Insert sample data\n"
   ]
  },
  {
   "cell_type": "code",
   "execution_count": 5,
   "id": "80144d1f",
   "metadata": {},
   "outputs": [
    {
     "name": "stdout",
     "output_type": "stream",
     "text": [
      "data inserted into firestore\n"
     ]
    }
   ],
   "source": [
    "customers_data = [\n",
    "    {\"id\":1,\"first_name\":\"Daniel\",\"last_name\":\"Masila\",\"email\":\"daniel@example.com\",\"city\":\"Nairobi\",\"region\":\"Central\"},\n",
    "    {\"id\":2,\"first_name\":\"Jane\",\"last_name\":\"Mwangi\",\"email\":\"jane@example.com\",\"city\":\"Nakuru\",\"region\":\"Rift Valley\"},\n",
    "    {\"id\":3,\"first_name\":\"John\",\"last_name\":\"Otieno\",\"email\":\"john@example.com\",\"city\":\"Kisumu\",\"region\":\"Western\"},\n",
    "]\n",
    "\n",
    "for c in customers_data:\n",
    "    customers_ref.document(str(c['id'])).set(c)\n",
    "    \n",
    "products_data = [\n",
    "    {\"id\":1,\"name\":\"Wireless Mouse\",\"category\":\"Accessories\",\"price\":1200},\n",
    "    {\"id\":2,\"name\":\"Laptop Stand\",\"category\":\"Accessories\",\"price\":3500},\n",
    "    {\"id\":3,\"name\":\"HDMI Cable\",\"category\":\"Cables\",\"price\":800},\n",
    "    {\"id\":4,\"name\":\"Monitor 24 inch\",\"category\":\"Electronics\",\"price\":16000},\n",
    "]\n",
    "for p in products_data:\n",
    "    products_ref.document(str(p[\"id\"])).set(p)\n",
    "\n",
    "orders_data = [\n",
    "    {\"id\":1,\"customer_id\":1,\"product_id\":1,\"order_date\":datetime.date(2025,10,1).isoformat(),\"quantity\":2,\"status\":\"Delivered\"},\n",
    "    {\"id\":2,\"customer_id\":1,\"product_id\":2,\"order_date\":datetime.date(2025,10,3).isoformat(),\"quantity\":1,\"status\":\"Delivered\"},\n",
    "    {\"id\":3,\"customer_id\":2,\"product_id\":4,\"order_date\":datetime.date(2025,10,5).isoformat(),\"quantity\":1,\"status\":\"Shipped\"},\n",
    "]\n",
    "for o in orders_data:\n",
    "    orders_ref.document(str(o[\"id\"])).set(o)\n",
    "\n",
    "print(\"data inserted into firestore\")"
   ]
  },
  {
   "cell_type": "markdown",
   "id": "c9a45838",
   "metadata": {},
   "source": [
    "##### 5. Query Documents\n"
   ]
  },
  {
   "cell_type": "code",
   "execution_count": 6,
   "id": "e6beb15f",
   "metadata": {},
   "outputs": [
    {
     "name": "stdout",
     "output_type": "stream",
     "text": [
      "{'region': 'Central', 'email': 'daniel@example.com', 'last_name': 'Masila', 'first_name': 'Daniel', 'id': 1, 'city': 'Nairobi'}\n",
      "{'region': 'Rift Valley', 'email': 'jane@example.com', 'last_name': 'Mwangi', 'first_name': 'Jane', 'id': 2, 'city': 'Nakuru'}\n",
      "{'region': 'Western', 'email': 'john@example.com', 'last_name': 'Otieno', 'first_name': 'John', 'id': 3, 'city': 'Kisumu'}\n"
     ]
    }
   ],
   "source": [
    "for doc in customers_ref.stream():\n",
    "    print(doc.to_dict())"
   ]
  },
  {
   "cell_type": "code",
   "execution_count": 8,
   "id": "66f4da85",
   "metadata": {},
   "outputs": [
    {
     "name": "stderr",
     "output_type": "stream",
     "text": [
      "d:\\PYTHON END TO END\\virtual_env\\Lib\\site-packages\\google\\cloud\\firestore_v1\\base_collection.py:304: UserWarning: Detected filter using positional arguments. Prefer using the 'filter' keyword argument instead.\n",
      "  return query.where(field_path, op_string, value)\n"
     ]
    },
    {
     "name": "stdout",
     "output_type": "stream",
     "text": [
      "{'status': 'Delivered', 'quantity': 2, 'order_date': '2025-10-01', 'product_id': 1, 'id': 1, 'customer_id': 1}\n",
      "{'status': 'Delivered', 'quantity': 1, 'order_date': '2025-10-03', 'product_id': 2, 'id': 2, 'customer_id': 1}\n"
     ]
    }
   ],
   "source": [
    "## filter example\n",
    "for doc in orders_ref.where(\"status\",\"==\",\"Delivered\").stream():\n",
    "    print(doc.to_dict())"
   ]
  },
  {
   "cell_type": "markdown",
   "id": "cf726436",
   "metadata": {},
   "source": [
    "##### 6. Manual Join style Query (in Python)\n"
   ]
  },
  {
   "cell_type": "code",
   "execution_count": 9,
   "id": "0cb09fcd",
   "metadata": {},
   "outputs": [
    {
     "data": {
      "text/html": [
       "<div>\n",
       "<style scoped>\n",
       "    .dataframe tbody tr th:only-of-type {\n",
       "        vertical-align: middle;\n",
       "    }\n",
       "\n",
       "    .dataframe tbody tr th {\n",
       "        vertical-align: top;\n",
       "    }\n",
       "\n",
       "    .dataframe thead th {\n",
       "        text-align: right;\n",
       "    }\n",
       "</style>\n",
       "<table border=\"1\" class=\"dataframe\">\n",
       "  <thead>\n",
       "    <tr style=\"text-align: right;\">\n",
       "      <th></th>\n",
       "      <th>customer</th>\n",
       "      <th>region</th>\n",
       "      <th>product</th>\n",
       "      <th>category</th>\n",
       "      <th>total_value</th>\n",
       "    </tr>\n",
       "  </thead>\n",
       "  <tbody>\n",
       "    <tr>\n",
       "      <th>0</th>\n",
       "      <td>Daniel</td>\n",
       "      <td>Central</td>\n",
       "      <td>Wireless Mouse</td>\n",
       "      <td>Accessories</td>\n",
       "      <td>2400</td>\n",
       "    </tr>\n",
       "    <tr>\n",
       "      <th>1</th>\n",
       "      <td>Daniel</td>\n",
       "      <td>Central</td>\n",
       "      <td>Laptop Stand</td>\n",
       "      <td>Accessories</td>\n",
       "      <td>3500</td>\n",
       "    </tr>\n",
       "    <tr>\n",
       "      <th>2</th>\n",
       "      <td>Jane</td>\n",
       "      <td>Rift Valley</td>\n",
       "      <td>Monitor 24 inch</td>\n",
       "      <td>Electronics</td>\n",
       "      <td>16000</td>\n",
       "    </tr>\n",
       "  </tbody>\n",
       "</table>\n",
       "</div>"
      ],
      "text/plain": [
       "  customer       region          product     category  total_value\n",
       "0   Daniel      Central   Wireless Mouse  Accessories         2400\n",
       "1   Daniel      Central     Laptop Stand  Accessories         3500\n",
       "2     Jane  Rift Valley  Monitor 24 inch  Electronics        16000"
      ]
     },
     "execution_count": 9,
     "metadata": {},
     "output_type": "execute_result"
    }
   ],
   "source": [
    "#NB :Firestore has no server-side joins, but you can combine data in Python:\n",
    "\n",
    "orders = [o.to_dict() for o in orders_ref.stream()]\n",
    "customers = {c.to_dict()['id']: c.to_dict() for c in customers_ref.stream()}\n",
    "products = {p.to_dict()['id']: p.to_dict() for p in products_ref.stream()}\n",
    "\n",
    "records = []\n",
    "for o in orders:\n",
    "    cust = customers[o['customer_id']]\n",
    "    prod =products[o['product_id']]\n",
    "    records.append({\n",
    "        \"customer\":cust['first_name'],\n",
    "        \"region\":cust[\"region\"],\n",
    "        \"product\":prod['name'],\n",
    "        \"category\":prod['category'],\n",
    "        \"total_value\":o[\"quantity\"] * prod[\"price\"]\n",
    "    })\n",
    "\n",
    "df = pd.DataFrame(records)\n",
    "df.head()"
   ]
  },
  {
   "cell_type": "markdown",
   "id": "cdd2f54a",
   "metadata": {},
   "source": [
    "##### 7. aggregation in pandas\n"
   ]
  },
  {
   "cell_type": "code",
   "execution_count": 10,
   "id": "15b144ae",
   "metadata": {},
   "outputs": [
    {
     "data": {
      "text/html": [
       "<div>\n",
       "<style scoped>\n",
       "    .dataframe tbody tr th:only-of-type {\n",
       "        vertical-align: middle;\n",
       "    }\n",
       "\n",
       "    .dataframe tbody tr th {\n",
       "        vertical-align: top;\n",
       "    }\n",
       "\n",
       "    .dataframe thead th {\n",
       "        text-align: right;\n",
       "    }\n",
       "</style>\n",
       "<table border=\"1\" class=\"dataframe\">\n",
       "  <thead>\n",
       "    <tr style=\"text-align: right;\">\n",
       "      <th></th>\n",
       "      <th>region</th>\n",
       "      <th>total_value</th>\n",
       "    </tr>\n",
       "  </thead>\n",
       "  <tbody>\n",
       "    <tr>\n",
       "      <th>1</th>\n",
       "      <td>Rift Valley</td>\n",
       "      <td>16000</td>\n",
       "    </tr>\n",
       "    <tr>\n",
       "      <th>0</th>\n",
       "      <td>Central</td>\n",
       "      <td>5900</td>\n",
       "    </tr>\n",
       "  </tbody>\n",
       "</table>\n",
       "</div>"
      ],
      "text/plain": [
       "        region  total_value\n",
       "1  Rift Valley        16000\n",
       "0      Central         5900"
      ]
     },
     "execution_count": 10,
     "metadata": {},
     "output_type": "execute_result"
    }
   ],
   "source": [
    "agg = (\n",
    "    df.groupby(\"region\")[\"total_value\"]\n",
    "    .sum()\n",
    "    .reset_index()\n",
    "    .sort_values(\"total_value\",ascending=False)\n",
    ")\n",
    "\n",
    "agg"
   ]
  },
  {
   "cell_type": "markdown",
   "id": "e6a49e25",
   "metadata": {},
   "source": [
    "##### 8. Visulization\n"
   ]
  },
  {
   "cell_type": "code",
   "execution_count": 13,
   "id": "044e3b49",
   "metadata": {},
   "outputs": [
    {
     "data": {
      "application/vnd.plotly.v1+json": {
       "config": {
        "plotlyServerURL": "https://plot.ly"
       },
       "data": [
        {
         "hovertemplate": "region=%{x}<br>total_value=%{y}<extra></extra>",
         "legendgroup": "",
         "marker": {
          "color": "#636efa",
          "pattern": {
           "shape": ""
          }
         },
         "name": "",
         "orientation": "v",
         "showlegend": false,
         "textposition": "auto",
         "type": "bar",
         "x": [
          "Rift Valley",
          "Central"
         ],
         "xaxis": "x",
         "y": {
          "bdata": "gD4MFw==",
          "dtype": "i2"
         },
         "yaxis": "y"
        }
       ],
       "layout": {
        "barmode": "relative",
        "legend": {
         "tracegroupgap": 0
        },
        "template": {
         "data": {
          "bar": [
           {
            "error_x": {
             "color": "#2a3f5f"
            },
            "error_y": {
             "color": "#2a3f5f"
            },
            "marker": {
             "line": {
              "color": "#E5ECF6",
              "width": 0.5
             },
             "pattern": {
              "fillmode": "overlay",
              "size": 10,
              "solidity": 0.2
             }
            },
            "type": "bar"
           }
          ],
          "barpolar": [
           {
            "marker": {
             "line": {
              "color": "#E5ECF6",
              "width": 0.5
             },
             "pattern": {
              "fillmode": "overlay",
              "size": 10,
              "solidity": 0.2
             }
            },
            "type": "barpolar"
           }
          ],
          "carpet": [
           {
            "aaxis": {
             "endlinecolor": "#2a3f5f",
             "gridcolor": "white",
             "linecolor": "white",
             "minorgridcolor": "white",
             "startlinecolor": "#2a3f5f"
            },
            "baxis": {
             "endlinecolor": "#2a3f5f",
             "gridcolor": "white",
             "linecolor": "white",
             "minorgridcolor": "white",
             "startlinecolor": "#2a3f5f"
            },
            "type": "carpet"
           }
          ],
          "choropleth": [
           {
            "colorbar": {
             "outlinewidth": 0,
             "ticks": ""
            },
            "type": "choropleth"
           }
          ],
          "contour": [
           {
            "colorbar": {
             "outlinewidth": 0,
             "ticks": ""
            },
            "colorscale": [
             [
              0,
              "#0d0887"
             ],
             [
              0.1111111111111111,
              "#46039f"
             ],
             [
              0.2222222222222222,
              "#7201a8"
             ],
             [
              0.3333333333333333,
              "#9c179e"
             ],
             [
              0.4444444444444444,
              "#bd3786"
             ],
             [
              0.5555555555555556,
              "#d8576b"
             ],
             [
              0.6666666666666666,
              "#ed7953"
             ],
             [
              0.7777777777777778,
              "#fb9f3a"
             ],
             [
              0.8888888888888888,
              "#fdca26"
             ],
             [
              1,
              "#f0f921"
             ]
            ],
            "type": "contour"
           }
          ],
          "contourcarpet": [
           {
            "colorbar": {
             "outlinewidth": 0,
             "ticks": ""
            },
            "type": "contourcarpet"
           }
          ],
          "heatmap": [
           {
            "colorbar": {
             "outlinewidth": 0,
             "ticks": ""
            },
            "colorscale": [
             [
              0,
              "#0d0887"
             ],
             [
              0.1111111111111111,
              "#46039f"
             ],
             [
              0.2222222222222222,
              "#7201a8"
             ],
             [
              0.3333333333333333,
              "#9c179e"
             ],
             [
              0.4444444444444444,
              "#bd3786"
             ],
             [
              0.5555555555555556,
              "#d8576b"
             ],
             [
              0.6666666666666666,
              "#ed7953"
             ],
             [
              0.7777777777777778,
              "#fb9f3a"
             ],
             [
              0.8888888888888888,
              "#fdca26"
             ],
             [
              1,
              "#f0f921"
             ]
            ],
            "type": "heatmap"
           }
          ],
          "histogram": [
           {
            "marker": {
             "pattern": {
              "fillmode": "overlay",
              "size": 10,
              "solidity": 0.2
             }
            },
            "type": "histogram"
           }
          ],
          "histogram2d": [
           {
            "colorbar": {
             "outlinewidth": 0,
             "ticks": ""
            },
            "colorscale": [
             [
              0,
              "#0d0887"
             ],
             [
              0.1111111111111111,
              "#46039f"
             ],
             [
              0.2222222222222222,
              "#7201a8"
             ],
             [
              0.3333333333333333,
              "#9c179e"
             ],
             [
              0.4444444444444444,
              "#bd3786"
             ],
             [
              0.5555555555555556,
              "#d8576b"
             ],
             [
              0.6666666666666666,
              "#ed7953"
             ],
             [
              0.7777777777777778,
              "#fb9f3a"
             ],
             [
              0.8888888888888888,
              "#fdca26"
             ],
             [
              1,
              "#f0f921"
             ]
            ],
            "type": "histogram2d"
           }
          ],
          "histogram2dcontour": [
           {
            "colorbar": {
             "outlinewidth": 0,
             "ticks": ""
            },
            "colorscale": [
             [
              0,
              "#0d0887"
             ],
             [
              0.1111111111111111,
              "#46039f"
             ],
             [
              0.2222222222222222,
              "#7201a8"
             ],
             [
              0.3333333333333333,
              "#9c179e"
             ],
             [
              0.4444444444444444,
              "#bd3786"
             ],
             [
              0.5555555555555556,
              "#d8576b"
             ],
             [
              0.6666666666666666,
              "#ed7953"
             ],
             [
              0.7777777777777778,
              "#fb9f3a"
             ],
             [
              0.8888888888888888,
              "#fdca26"
             ],
             [
              1,
              "#f0f921"
             ]
            ],
            "type": "histogram2dcontour"
           }
          ],
          "mesh3d": [
           {
            "colorbar": {
             "outlinewidth": 0,
             "ticks": ""
            },
            "type": "mesh3d"
           }
          ],
          "parcoords": [
           {
            "line": {
             "colorbar": {
              "outlinewidth": 0,
              "ticks": ""
             }
            },
            "type": "parcoords"
           }
          ],
          "pie": [
           {
            "automargin": true,
            "type": "pie"
           }
          ],
          "scatter": [
           {
            "fillpattern": {
             "fillmode": "overlay",
             "size": 10,
             "solidity": 0.2
            },
            "type": "scatter"
           }
          ],
          "scatter3d": [
           {
            "line": {
             "colorbar": {
              "outlinewidth": 0,
              "ticks": ""
             }
            },
            "marker": {
             "colorbar": {
              "outlinewidth": 0,
              "ticks": ""
             }
            },
            "type": "scatter3d"
           }
          ],
          "scattercarpet": [
           {
            "marker": {
             "colorbar": {
              "outlinewidth": 0,
              "ticks": ""
             }
            },
            "type": "scattercarpet"
           }
          ],
          "scattergeo": [
           {
            "marker": {
             "colorbar": {
              "outlinewidth": 0,
              "ticks": ""
             }
            },
            "type": "scattergeo"
           }
          ],
          "scattergl": [
           {
            "marker": {
             "colorbar": {
              "outlinewidth": 0,
              "ticks": ""
             }
            },
            "type": "scattergl"
           }
          ],
          "scattermap": [
           {
            "marker": {
             "colorbar": {
              "outlinewidth": 0,
              "ticks": ""
             }
            },
            "type": "scattermap"
           }
          ],
          "scattermapbox": [
           {
            "marker": {
             "colorbar": {
              "outlinewidth": 0,
              "ticks": ""
             }
            },
            "type": "scattermapbox"
           }
          ],
          "scatterpolar": [
           {
            "marker": {
             "colorbar": {
              "outlinewidth": 0,
              "ticks": ""
             }
            },
            "type": "scatterpolar"
           }
          ],
          "scatterpolargl": [
           {
            "marker": {
             "colorbar": {
              "outlinewidth": 0,
              "ticks": ""
             }
            },
            "type": "scatterpolargl"
           }
          ],
          "scatterternary": [
           {
            "marker": {
             "colorbar": {
              "outlinewidth": 0,
              "ticks": ""
             }
            },
            "type": "scatterternary"
           }
          ],
          "surface": [
           {
            "colorbar": {
             "outlinewidth": 0,
             "ticks": ""
            },
            "colorscale": [
             [
              0,
              "#0d0887"
             ],
             [
              0.1111111111111111,
              "#46039f"
             ],
             [
              0.2222222222222222,
              "#7201a8"
             ],
             [
              0.3333333333333333,
              "#9c179e"
             ],
             [
              0.4444444444444444,
              "#bd3786"
             ],
             [
              0.5555555555555556,
              "#d8576b"
             ],
             [
              0.6666666666666666,
              "#ed7953"
             ],
             [
              0.7777777777777778,
              "#fb9f3a"
             ],
             [
              0.8888888888888888,
              "#fdca26"
             ],
             [
              1,
              "#f0f921"
             ]
            ],
            "type": "surface"
           }
          ],
          "table": [
           {
            "cells": {
             "fill": {
              "color": "#EBF0F8"
             },
             "line": {
              "color": "white"
             }
            },
            "header": {
             "fill": {
              "color": "#C8D4E3"
             },
             "line": {
              "color": "white"
             }
            },
            "type": "table"
           }
          ]
         },
         "layout": {
          "annotationdefaults": {
           "arrowcolor": "#2a3f5f",
           "arrowhead": 0,
           "arrowwidth": 1
          },
          "autotypenumbers": "strict",
          "coloraxis": {
           "colorbar": {
            "outlinewidth": 0,
            "ticks": ""
           }
          },
          "colorscale": {
           "diverging": [
            [
             0,
             "#8e0152"
            ],
            [
             0.1,
             "#c51b7d"
            ],
            [
             0.2,
             "#de77ae"
            ],
            [
             0.3,
             "#f1b6da"
            ],
            [
             0.4,
             "#fde0ef"
            ],
            [
             0.5,
             "#f7f7f7"
            ],
            [
             0.6,
             "#e6f5d0"
            ],
            [
             0.7,
             "#b8e186"
            ],
            [
             0.8,
             "#7fbc41"
            ],
            [
             0.9,
             "#4d9221"
            ],
            [
             1,
             "#276419"
            ]
           ],
           "sequential": [
            [
             0,
             "#0d0887"
            ],
            [
             0.1111111111111111,
             "#46039f"
            ],
            [
             0.2222222222222222,
             "#7201a8"
            ],
            [
             0.3333333333333333,
             "#9c179e"
            ],
            [
             0.4444444444444444,
             "#bd3786"
            ],
            [
             0.5555555555555556,
             "#d8576b"
            ],
            [
             0.6666666666666666,
             "#ed7953"
            ],
            [
             0.7777777777777778,
             "#fb9f3a"
            ],
            [
             0.8888888888888888,
             "#fdca26"
            ],
            [
             1,
             "#f0f921"
            ]
           ],
           "sequentialminus": [
            [
             0,
             "#0d0887"
            ],
            [
             0.1111111111111111,
             "#46039f"
            ],
            [
             0.2222222222222222,
             "#7201a8"
            ],
            [
             0.3333333333333333,
             "#9c179e"
            ],
            [
             0.4444444444444444,
             "#bd3786"
            ],
            [
             0.5555555555555556,
             "#d8576b"
            ],
            [
             0.6666666666666666,
             "#ed7953"
            ],
            [
             0.7777777777777778,
             "#fb9f3a"
            ],
            [
             0.8888888888888888,
             "#fdca26"
            ],
            [
             1,
             "#f0f921"
            ]
           ]
          },
          "colorway": [
           "#636efa",
           "#EF553B",
           "#00cc96",
           "#ab63fa",
           "#FFA15A",
           "#19d3f3",
           "#FF6692",
           "#B6E880",
           "#FF97FF",
           "#FECB52"
          ],
          "font": {
           "color": "#2a3f5f"
          },
          "geo": {
           "bgcolor": "white",
           "lakecolor": "white",
           "landcolor": "#E5ECF6",
           "showlakes": true,
           "showland": true,
           "subunitcolor": "white"
          },
          "hoverlabel": {
           "align": "left"
          },
          "hovermode": "closest",
          "mapbox": {
           "style": "light"
          },
          "paper_bgcolor": "white",
          "plot_bgcolor": "#E5ECF6",
          "polar": {
           "angularaxis": {
            "gridcolor": "white",
            "linecolor": "white",
            "ticks": ""
           },
           "bgcolor": "#E5ECF6",
           "radialaxis": {
            "gridcolor": "white",
            "linecolor": "white",
            "ticks": ""
           }
          },
          "scene": {
           "xaxis": {
            "backgroundcolor": "#E5ECF6",
            "gridcolor": "white",
            "gridwidth": 2,
            "linecolor": "white",
            "showbackground": true,
            "ticks": "",
            "zerolinecolor": "white"
           },
           "yaxis": {
            "backgroundcolor": "#E5ECF6",
            "gridcolor": "white",
            "gridwidth": 2,
            "linecolor": "white",
            "showbackground": true,
            "ticks": "",
            "zerolinecolor": "white"
           },
           "zaxis": {
            "backgroundcolor": "#E5ECF6",
            "gridcolor": "white",
            "gridwidth": 2,
            "linecolor": "white",
            "showbackground": true,
            "ticks": "",
            "zerolinecolor": "white"
           }
          },
          "shapedefaults": {
           "line": {
            "color": "#2a3f5f"
           }
          },
          "ternary": {
           "aaxis": {
            "gridcolor": "white",
            "linecolor": "white",
            "ticks": ""
           },
           "baxis": {
            "gridcolor": "white",
            "linecolor": "white",
            "ticks": ""
           },
           "bgcolor": "#E5ECF6",
           "caxis": {
            "gridcolor": "white",
            "linecolor": "white",
            "ticks": ""
           }
          },
          "title": {
           "x": 0.05
          },
          "xaxis": {
           "automargin": true,
           "gridcolor": "white",
           "linecolor": "white",
           "ticks": "",
           "title": {
            "standoff": 15
           },
           "zerolinecolor": "white",
           "zerolinewidth": 2
          },
          "yaxis": {
           "automargin": true,
           "gridcolor": "white",
           "linecolor": "white",
           "ticks": "",
           "title": {
            "standoff": 15
           },
           "zerolinecolor": "white",
           "zerolinewidth": 2
          }
         }
        },
        "title": {
         "text": "Sales By Region"
        },
        "xaxis": {
         "anchor": "y",
         "domain": [
          0,
          1
         ],
         "title": {
          "text": "region"
         }
        },
        "yaxis": {
         "anchor": "x",
         "domain": [
          0,
          1
         ],
         "title": {
          "text": "total_value"
         }
        }
       }
      }
     },
     "metadata": {},
     "output_type": "display_data"
    }
   ],
   "source": [
    "import plotly.express as px\n",
    "px.bar(agg,x='region',y='total_value',title=\"Sales By Region\")"
   ]
  },
  {
   "cell_type": "markdown",
   "id": "8e253b18",
   "metadata": {},
   "source": [
    "##### 9. Update and delete\n"
   ]
  },
  {
   "cell_type": "code",
   "execution_count": 14,
   "id": "7f7a4661",
   "metadata": {},
   "outputs": [
    {
     "data": {
      "text/plain": [
       "DatetimeWithNanoseconds(2025, 10, 15, 10, 25, 25, 242269, tzinfo=datetime.timezone.utc)"
      ]
     },
     "execution_count": 14,
     "metadata": {},
     "output_type": "execute_result"
    }
   ],
   "source": [
    "# update\n",
    "orders_ref.document(\"3\").update({\"status\":\"Delivered\"})\n",
    "\n",
    "# delete\n",
    "products_ref.document(\"4\").delete()"
   ]
  },
  {
   "cell_type": "markdown",
   "id": "dddc105e",
   "metadata": {},
   "source": [
    "##### 11. Summary\n"
   ]
  },
  {
   "cell_type": "markdown",
   "id": "da5ef822",
   "metadata": {},
   "source": [
    "we learned to:\n",
    "\n",
    "- Connect to Google Firestore using the Firebase Admin SDK\n",
    "- Insert and query nested JSON-like documents\n",
    "- Merge data across collections with client-side logic\n",
    "- Aggregate and visualize results with Pandas\n",
    "\n",
    "Next up (optional): compare **Firestore vs MongoDB vs SQL** for architecture and performance trade-offs.\n"
   ]
  },
  {
   "cell_type": "markdown",
   "id": "51b7190b",
   "metadata": {},
   "source": [
    "##### Quick Comparison\n",
    "\n",
    "| **Feature**        | **Firestore**                    | **MongoDB**               |\n",
    "| ------------------ | -------------------------------- | ------------------------- |\n",
    "| **Hosting**        | Google Cloud                     | Self-hosted / Atlas Cloud |\n",
    "| **Structure**      | Collections → Documents → Fields | Same hierarchy            |\n",
    "| **Schema**         | Flexible                         | Flexible                  |\n",
    "| **Query Language** | Firestore API (MQL-like)         | MongoDB Query Language    |\n",
    "| **Transactions**   | Multi-document supported         | Supported                 |\n",
    "| **Ideal Use**      | Cloud apps, mobile sync          | Local / server-based apps |\n"
   ]
  }
 ],
 "metadata": {
  "kernelspec": {
   "display_name": "Python (virtual_env)",
   "language": "python",
   "name": "virtual_env"
  },
  "language_info": {
   "codemirror_mode": {
    "name": "ipython",
    "version": 3
   },
   "file_extension": ".py",
   "mimetype": "text/x-python",
   "name": "python",
   "nbconvert_exporter": "python",
   "pygments_lexer": "ipython3",
   "version": "3.13.5"
  }
 },
 "nbformat": 4,
 "nbformat_minor": 5
}
